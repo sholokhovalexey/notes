{
 "cells": [
  {
   "cell_type": "markdown",
   "metadata": {},
   "source": [
    "Иногда при решении задач возникает требование, чтобы вектор решения был __разреженным__ (sparse), то есть содержал лишь небольшое количество ненулевых элементов. Обычно количество ненелевых элементов $x$ обозначается как $\\mathrm{card}(x)$ (мощность множества, cardinality).\n",
    "\n",
    "Некоторые задачи оптимизации могут включать в себя ограничения на количество ненулевых элементов вектора переменных:\n",
    "\n",
    "\\begin{gather}\n",
    "\\underset{x}{\\text{min}} & f(x) \\\\\n",
    "\\text{s.t.} & \\mathrm{card}(x) \\leq k \n",
    "\\end{gather}\n",
    "\n",
    "Такие задачи не сложно решить, если заранее известны какие именно элементы вектора $x$ отличны от нуля (sparsity pattern). В противном случае необходимо решить $2^k$ задач для всех возможных подмножеств ненулевых переменных.\n",
    "\n",
    "Convex-Cardinality Problems: \n",
    "\n",
    "Часть I: https://web.stanford.edu/class/ee364b/lectures/l1_slides.pdf\n",
    "\n",
    "Часть II: https://web.stanford.edu/class/ee364b/lectures/l1_ext_slides.pdf"
   ]
  },
  {
   "cell_type": "markdown",
   "metadata": {
    "collapsed": true
   },
   "source": [
    "Пример: сжатие данных\n",
    "\n",
    "\\begin{gather}\n",
    "\\underset{x}{\\text{min}} & \\|x\\|_0 \\\\\n",
    "\\text{s.t.} & \\|\\Phi x - y\\|^2 \\leq \\epsilon \n",
    "\\end{gather}\n",
    "\n",
    "или\n",
    "\n",
    "\\begin{gather}\n",
    "\\underset{x}{\\text{min}} & \\|\\Phi x - y\\|^2 \\\\\n",
    "\\text{s.t.} & \\|x\\|_0 \\leq k \n",
    "\\end{gather}\n",
    "\n",
    "Здесь используется другое распространенное обозначение: $\\|x\\|_0 = \\mathrm{card}(x)$ - $l_0$-\"норма\" (не является нормой) вектора $x$, равная количеству ненулевых элементов вектора $x$:\n",
    "\n",
    "Первую задачу можно интерпретировать как поиск минимального количества стобцов матрицы $\\Phi$, некоторая линейная комбинация которых аппроксимирет данный вектор $y$ с требуемой точностью (квадрат нормы вектора невязки не превосходит $\\epsilon$).\n",
    "\n",
    "Вторая задача интепретируется как минимизация ошибки аппроксимации при заданнной степени сжатия (количество ненулевых элементов в $x$ не превосходит $k$). \n",
    "\n",
    "<img src=\"http://4.bp.blogspot.com/-a__11mmJN00/T94GGCrw2uI/AAAAAAAAF5Q/NSOpOJivwbc/s1600/compressive_sensing_example.JPG\" width=600>\n",
    "\n",
    "Поиск решения подобных задач затруднен из-за невыпуклости функции $\\|x\\|_0$.\n",
    "\n",
    "<img src=\"https://ars.els-cdn.com/content/image/1-s2.0-S0898122115002710-gr1d.jpg\">\n",
    "\n",
    "Поэтому функцию $\\|x\\|_0$ заменяют на $l_1$-норму $\\|x\\|_1 = \\sum_i |x_i|$, которая является выпуклой функцией, а, следовательно, полученная задача оптимизации будет выпуклой. Важным свойством такой замены является то, что при выполнениее определенных условий, решения обеих задач могут совпадать.\n",
    "\n",
    "<img src=\"https://imgur.com/rvtXAxC.png\">\n",
    "\n",
    "http://www.machinelearning.ru/wiki/images/0/06/SLT%2C_lecture_8.pdf\n",
    "\n",
    "Иллюстрация того, почему использование $l_1$-нормы приводит к разреженным решениям, а для $l_2$-нормы это свойство теряется:\n",
    "\n",
    "<img src=\"https://www.intechopen.com/source/html/56796/media/F5.png\">\n",
    "\n",
    "На рисунке показаны множества решений уравнения $\\|x\\|_p = \\left(\\sum_i |x_i|^p\\right)^{\\frac{1}{p}} = 1$ для различных $p$:\n",
    "\n",
    "<img src=\"https://cdn-images-1.medium.com/max/1600/1*OLFN24vF_c3y5p3tiz4_5A.png\" width=600>"
   ]
  },
  {
   "cell_type": "markdown",
   "metadata": {},
   "source": [
    "Пример: минимизация ранга матрицы\n",
    "\n",
    "Пусть дана матрица $\\mathbf{R} \\in \\mathbb{R}^{m \\times n}$, для которой известны значения лишь подмножества ее элементов\n",
    "$\\Omega \\subset \\{(i,j)|1 \\leq i \\leq m, 1 \\leq j \\leq n \\}$.\n",
    "\n",
    "Идея заключается в том, чтобы аппроксимировать $\\mathbf{R}$ матрицей низкого ранга:\n",
    "\n",
    "$$\\mathbf{R} \\approx \\mathbf{X}$$\n",
    "\n",
    "так что $\\mathrm{rank}(\\mathbf{X}) \\leq k$.\n",
    "\n",
    "Если бы были известны все элементы матрицы $\\mathbf{R}$, то решение можно было бы найти, основываясь на _теореме Эккарта-Янга_: \n",
    "\n",
    "Пусть заданную матрицу $\\mathbf{R} = \\mathbf{U} \\mathbf{\\Sigma} \\mathbf{V}^T$ требуется приблизить некоторой другой матрицей $\\mathbf{X}$ меньшего ранга $k$. Тогда\n",
    "\n",
    "$$\\arg\\min_{\\mathrm{rank}(X)=k} {\\lVert \\mathbf{R} - \\mathbf{X}  \\rVert}^2_F = \\mathbf{U}_k \\mathbf{\\Sigma}_k \\mathbf{V}_k^T = \\sum_{i=1}^k {\\sigma_i \\mathbf{u}_i \\mathbf{v}_i^T}$$\n",
    "\n",
    "где $\\mathbf{\\Sigma}_k$ - диагональная матрица, содержащая $k$ максимальных сингулярных чисел матрицы $\\mathbf{R}$, а  $\\mathbf{U}_k$ и $\\mathbf{V}_k$ - матрицы, состоящие из $k$ столбцов - сингулярных векторов, отвечающих старшим сингулярным числам.\n",
    "\n",
    "\n",
    "Ранг матрицы равен количеству ненулевых сингулярных чисел матрицы, поэтому условие задачи можно записать $\\mathrm{rank}(\\mathbf{X}) = \\|\\sigma\\|_0 \\leq k$, если $\\mathbf{X} = \\mathbf{U}\\mathbf{\\Sigma}\\mathbf{V}^T$ - сингулярное разложение матрицы $\\mathbf{X}$ и $\\sigma = \\mathrm{diag}(\\mathbf{\\Sigma})$.\n",
    "\n",
    "Если заменить $l_0$-\"норму\" на $l_1$-норму, то условие $\\|\\sigma\\|_0 \\leq k$ заменится на $\\|\\sigma\\|_1 = \\|\\mathbf{X}\\|_*  \\leq \\gamma$ для некоторого числа $\\gamma$, где $\\|\\mathbf{X}\\|_* $ обозначает _ядерную норму_ (nuclear norm, trace norm) матрицы $\\mathbf{X}$.\n",
    "\n",
    "В свете сказанного можно заметить сходство между поиском разрженного вектора и поиском матрицы низкого ранга."
   ]
  },
  {
   "cell_type": "markdown",
   "metadata": {},
   "source": [
    "Олег Граничин. Рандомизация измерений и $l_1$ оптимизация. [ссылка](http://www.math.spbu.ru/user/gran/soi5/Granichin5.pdf)\n",
    "\n",
    "<img src=\"https://images.tandf.co.uk/common/jackets/amazon/978143982/9781439828694.jpg\" width=300>\n",
    "\n",
    "A User's Guide to Compressed Sensing for Communications\n",
    "Systems. \n",
    "https://search.ieice.org/bin/pdf_link.php?fname=e96-b_3_685&lang="
   ]
  },
  {
   "cell_type": "code",
   "execution_count": null,
   "metadata": {},
   "outputs": [],
   "source": []
  },
  {
   "cell_type": "markdown",
   "metadata": {},
   "source": [
    "# Sudoku\n",
    "\n",
    "http://people.math.yorku.ca/~chensy/sudoku.pdf"
   ]
  },
  {
   "cell_type": "code",
   "execution_count": 1,
   "metadata": {},
   "outputs": [],
   "source": [
    "import numpy as np\n",
    "import matplotlib.pyplot as plt\n",
    "from scipy.linalg import solve, inv, norm\n",
    "\n",
    "from cvxopt import matrix, solvers"
   ]
  },
  {
   "cell_type": "code",
   "execution_count": 2,
   "metadata": {},
   "outputs": [],
   "source": [
    "N = 9\n",
    "\n",
    "I = np.eye(N)\n",
    "ones = np.ones((1,N))\n",
    "\n",
    "M_vert = np.kron(I, ones)\n",
    "M_horz = np.kron(ones, I)\n",
    "\n",
    "A_row = np.kron(M_vert, I)\n",
    "A_col = np.kron(M_horz, I)\n",
    "\n",
    "\n",
    "J = np.hstack((I,I,I))\n",
    "I3 = np.eye(3)\n",
    "J3 = np.hstack((I3,I3,I3))\n",
    "A_box = np.kron(I3, np.kron(J3,J)) \n",
    "\n",
    "A_cell = np.kron(np.eye(N**2), ones)\n"
   ]
  },
  {
   "cell_type": "code",
   "execution_count": 3,
   "metadata": {},
   "outputs": [
    {
     "name": "stdout",
     "output_type": "stream",
     "text": [
      "(81, 729) (81, 729) (81, 729) (81, 729)\n"
     ]
    }
   ],
   "source": [
    "print(A_row.shape, A_col.shape, A_box.shape, A_cell.shape)"
   ]
  },
  {
   "cell_type": "markdown",
   "metadata": {},
   "source": [
    "Исходные данные:"
   ]
  },
  {
   "cell_type": "code",
   "execution_count": 4,
   "metadata": {},
   "outputs": [
    {
     "name": "stdout",
     "output_type": "stream",
     "text": [
      "(9, 9)\n"
     ]
    }
   ],
   "source": [
    "X  =  np.array([[0, 1, 0, 0, 0, 0, 3, 0, 0],\n",
    "                [0, 0, 3, 0, 8, 0, 0, 4, 0],\n",
    "                [7, 0, 2, 0, 0, 3, 0, 0, 1],\n",
    "                [0, 3, 0, 9, 4, 0, 1, 0, 0],\n",
    "                [9, 0, 0, 0, 0, 0, 0, 0, 6],\n",
    "                [0, 0, 4, 0, 6, 7, 0, 9, 0],\n",
    "                [1, 0, 0, 7, 0, 0, 2, 0, 4],\n",
    "                [0, 9, 0, 0, 5, 0, 7, 0, 0],\n",
    "                [0, 0, 7, 0, 0, 0, 0, 3, 0]])\n",
    "\n",
    "print(X.shape)"
   ]
  },
  {
   "cell_type": "code",
   "execution_count": 5,
   "metadata": {},
   "outputs": [
    {
     "name": "stdout",
     "output_type": "stream",
     "text": [
      "28\n"
     ]
    }
   ],
   "source": [
    "row_idx, col_idx = np.nonzero(X)\n",
    "\n",
    "nnz = len(row_idx)\n",
    "print(nnz)\n",
    "\n",
    "A_clue = np.zeros((nnz, N**3))\n",
    "for k in range(nnz):\n",
    "    i, j = row_idx[k], col_idx[k]   \n",
    "    A_clue[k, i*N**2 + j*N + X[i,j] - 1] = 1\n"
   ]
  },
  {
   "cell_type": "code",
   "execution_count": 9,
   "metadata": {},
   "outputs": [],
   "source": [
    "c = np.vstack((np.ones((N**3,1)), np.zeros((N**3,1))))\n",
    "\n",
    "A = np.block([[-np.eye(N**3), np.eye(N**3)], [np.zeros((N**3,N**3)), -np.eye(N**3)]])             \n",
    "b = np.zeros((A.shape[0],1))\n",
    "\n",
    "ineq_all = np.r_[A_row, A_col, A_box, A_cell, A_clue]\n",
    "n_ineq = ineq_all.shape[0]\n",
    "\n",
    "G = np.c_[np.zeros((n_ineq, N**3)), ineq_all]\n",
    "h = np.ones((n_ineq,1))"
   ]
  },
  {
   "cell_type": "code",
   "execution_count": 10,
   "metadata": {},
   "outputs": [
    {
     "name": "stdout",
     "output_type": "stream",
     "text": [
      "(352, 1458)\n",
      "(1458, 1458)\n"
     ]
    }
   ],
   "source": [
    "print(G.shape)\n",
    "print(A.shape)"
   ]
  },
  {
   "cell_type": "code",
   "execution_count": 11,
   "metadata": {},
   "outputs": [
    {
     "name": "stdout",
     "output_type": "stream",
     "text": [
      "{'status': 'optimal', 'x': <1458x1 matrix, tc='d'>, 's': <1458x1 matrix, tc='d'>, 'y': <352x1 matrix, tc='d'>, 'z': <1458x1 matrix, tc='d'>, 'primal objective': 81.0, 'dual objective': 81.0, 'gap': -2.308404165485216e-30, 'relative gap': -2.849881685784217e-32, 'primal infeasibility': 2.1337967270616272e-16, 'dual infeasibility': 8.549566731296237e-16, 'primal slack': -1.2232278682030758e-15, 'dual slack': -8.43769498715119e-15, 'residual as primal infeasibility certificate': None, 'residual as dual infeasibility certificate': None}\n"
     ]
    }
   ],
   "source": [
    "# objective\n",
    "c = matrix(c)\n",
    "# inequalities\n",
    "A = matrix(A)\n",
    "b = matrix(b)\n",
    "# equalities\n",
    "G = matrix(G)\n",
    "h = matrix(h)\n",
    "\n",
    "\n",
    "sol=solvers.lp(c, A, b, G, h, solver='glpk')\n",
    "print(sol)\n",
    "xx = np.array(sol['x'])\n",
    "x = xx[N**3:]"
   ]
  },
  {
   "cell_type": "code",
   "execution_count": 12,
   "metadata": {},
   "outputs": [
    {
     "name": "stdout",
     "output_type": "stream",
     "text": [
      "81\n"
     ]
    }
   ],
   "source": [
    "print(np.sum(x>1e-3))"
   ]
  },
  {
   "cell_type": "code",
   "execution_count": 13,
   "metadata": {},
   "outputs": [
    {
     "data": {
      "image/png": "[encoded data removed]",
      "text/plain": [
       "<Figure size 432x288 with 1 Axes>"
      ]
     },
     "metadata": {
      "needs_background": "light"
     },
     "output_type": "display_data"
    }
   ],
   "source": [
    "plt.hist(x, 50)\n",
    "plt.show()"
   ]
  },
  {
   "cell_type": "code",
   "execution_count": 14,
   "metadata": {},
   "outputs": [],
   "source": [
    "def decode_sudoku(x, N):\n",
    "    X = np.zeros((N,N)) \n",
    "    for i in range(N):\n",
    "        for j in range(N):\n",
    "            idx = i*N**2 + j*N \n",
    "            r = np.argmax(x[idx:idx+N])\n",
    "            X[i,j] = r+1\n",
    "\n",
    "    return X"
   ]
  },
  {
   "cell_type": "code",
   "execution_count": 15,
   "metadata": {},
   "outputs": [
    {
     "name": "stdout",
     "output_type": "stream",
     "text": [
      "[[8. 1. 9. 6. 7. 4. 3. 2. 5.]\n",
      " [5. 6. 3. 2. 8. 1. 9. 4. 7.]\n",
      " [7. 4. 2. 5. 9. 3. 6. 8. 1.]\n",
      " [6. 3. 8. 9. 4. 5. 1. 7. 2.]\n",
      " [9. 7. 1. 3. 2. 8. 4. 5. 6.]\n",
      " [2. 5. 4. 1. 6. 7. 8. 9. 3.]\n",
      " [1. 8. 5. 7. 3. 9. 2. 6. 4.]\n",
      " [3. 9. 6. 4. 5. 2. 7. 1. 8.]\n",
      " [4. 2. 7. 8. 1. 6. 5. 3. 9.]]\n"
     ]
    }
   ],
   "source": [
    "X_sol = decode_sudoku(x, N)\n",
    "\n",
    "print(X_sol)"
   ]
  },
  {
   "cell_type": "code",
   "execution_count": null,
   "metadata": {},
   "outputs": [],
   "source": []
  }
 ],
 "metadata": {
  "kernelspec": {
   "display_name": "Python 3",
   "language": "python",
   "name": "python3"
  },
  "language_info": {
   "codemirror_mode": {
    "name": "ipython",
    "version": 3
   },
   "file_extension": ".py",
   "mimetype": "text/x-python",
   "name": "python",
   "nbconvert_exporter": "python",
   "pygments_lexer": "ipython3",
   "version": "3.6.8"
  }
 },
 "nbformat": 4,
 "nbformat_minor": 2
}
