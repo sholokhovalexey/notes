{
 "cells": [
  {
   "cell_type": "code",
   "execution_count": 3,
   "metadata": {},
   "outputs": [],
   "source": [
    "import numpy as np\n",
    "import matplotlib.pyplot as plt\n",
    "from numpy.linalg import norm\n",
    "\n",
    "from cvxopt import matrix, solvers"
   ]
  },
  {
   "cell_type": "markdown",
   "metadata": {},
   "source": [
    "## Facility location problem\n",
    "\n",
    "[Задача о размещении производства](https://ru.wikipedia.org/wiki/%D0%97%D0%B0%D0%B4%D0%B0%D1%87%D0%B0_%D0%BE_%D1%80%D0%B0%D0%B7%D0%BC%D0%B5%D1%89%D0%B5%D0%BD%D0%B8%D0%B8_%D0%BE%D0%B1%D1%8A%D0%B5%D0%BA%D1%82%D0%BE%D0%B2) (facility location problem) - это задача исследования операций, требующая найти оптимальное расположение объектов с целью минимизировать цены перевозок с учётом таких ограничений, как размещение опасных материалов вблизи жилищ.\n",
    "\n",
    "<img src=\"https://disopt.epfl.ch/files/content/sites/disopt/files/users/190471/public/network_opt2.png\">\n",
    "\n",
    "Задано конечное множество возможных мест производства $I$ некоторой однородной продукции и конечное множество клиентов $J$. Известны затраты $c_i$ на организацию производства в пункте $i \\in I$. Продукция доставляется клиентам, стоимость доставки клиенту $j \\in J$ из пункта $i$ равна $d_{ij}$. Каждый клиент может обслуживаться только из _одного_ пункта. Необходимо определить, в каких пунктах следует разместить производство, чтобы обслужить _всех_ клиентов с наименьшими суммарными затратами.\n",
    "\n",
    "\n",
    "\\begin{gather}\n",
    "\\underset{x, y}{\\text{min}} & \\sum_{i \\in I}c_i y_i + \\sum_{j \\in J} \\sum_{i \\in I} d_{ij} x_{ij} \\\\\n",
    "\\text{s.t.} & \\sum_{i \\in I} x_{ij} = 1, \\forall j \\in J \\\\\n",
    "& y_i \\geq x_{ij}, \\forall i \\in I,  \\forall j \\in J  \\\\\n",
    "& y_i \\in \\{0,1\\}, x_{ij} \\in \\{0,1\\} \\\\\n",
    "\\end{gather}\n",
    "\n",
    "Если $y_i = 1$, то это означает, что производство $i$ открыто. Если $x_{ij} = 1$, то это означает, что производство $i$ обслудивает клиента $j$.\n",
    "\n",
    "Первое условие означает, что спрос потребителей удовлетворен: потребитель $j$ обслуживается одним производством.\n",
    "\n",
    "Второе условие означает, что если производство $i$ не открыто ($y_i = 0$), то оно не может обслудивать ни одного потребителя ($x_{ij} = 0$).\n",
    "\n",
    "### LP-релаксация:\n",
    "\n",
    "$y_i \\in [0,1], x_{ij} \\in [0,1]$\n",
    "\n",
    "Лагранжиан:\n",
    "\\begin{gather}\n",
    "L(y,x,\\lambda, \\mu) = \\sum_{i \\in I}c_i y_i + \\sum_{j \\in J} \\sum_{i \\in I} d_{ij} x_{ij} + \\sum_{j \\in J} \\sum_{i \\in I} \\lambda_{ij} (x_{ij} - y_i) + \\sum_{j \\in J} \\mu_j \\left(\\sum_{i \\in I} x_{ij} - 1 \\right) = \\\\\n",
    "\\sum_{i \\in I} c_i y_i + \\sum_{i \\in I} \\sum_{j \\in J} d_{ij} x_{ij} + \\sum_{i \\in I} \\sum_{j \\in J} \\lambda_{ij} x_{ij} - \\sum_{i \\in I} y_i \\sum_{j \\in J} \\lambda_{ij} + \\sum_{i \\in I} \\sum_{j \\in J} \\mu_j (x_{ij} - 1) = \\\\\n",
    "\\sum_{i \\in I} (c_i - \\sum_{j \\in J} \\lambda_{ij}) y_i +  \\sum_{i \\in I} \\sum_{j \\in J} (d_{ij} + \\lambda_{ij} + \\mu_j)x_{ij} - \\sum_{i \\in I}\\sum_{j \\in J} \\mu_j = \\\\\n",
    "\\sum_{i \\in I} \\left( (c_i - \\sum_{j \\in J} \\lambda_{ij}) y_i +  \\sum_{j \\in J} (d_{ij} + \\lambda_{ij} + \\mu_j)x_{ij} - \\sum_{j \\in J} \\mu_j \\right)\n",
    "\\end{gather}\n",
    "\n",
    "Двоственная функция:\n",
    "\n",
    "$$g(\\lambda, \\mu) = \\min_{y_i \\in [0,1], x_{ij} \\in [0,1]} L(y,x,\\lambda, \\mu)$$\n",
    "\n",
    "Найдем максимум двойственной задачи методом проекции субградиента.\n",
    "\n",
    "Значения $x_{*ij} - y_{*i}$ и $\\sum_{i \\in I} x_{*ij} - 1$, где $(y_*, x_*) = \\arg\\min_{y,x} L(y,x,\\lambda, \\mu)$, являются элементами суперградиента недифференцируемой функции $g(\\lambda, \\mu)$, поэтому могут быть ненулевым даже в оптимальной точке - решении двойственной задачи."
   ]
  },
  {
   "cell_type": "code",
   "execution_count": 4,
   "metadata": {},
   "outputs": [
    {
     "data": {
      "image/png": "[encoded data removed]",
      "text/plain": [
       "<Figure size 432x288 with 1 Axes>"
      ]
     },
     "metadata": {
      "needs_background": "light"
     },
     "output_type": "display_data"
    }
   ],
   "source": [
    "dim = 2\n",
    "\n",
    "M = 10 # i\n",
    "N = 100 # j\n",
    "\n",
    "np.random.seed(0)\n",
    "\n",
    "facilities = np.random.randn(M,dim)*2\n",
    "clients = np.random.randn(N,dim)\n",
    "\n",
    "plt.plot(facilities[:,0], facilities[:,1], 'bo')\n",
    "plt.plot(clients[:,0], clients[:,1], 'g.')\n",
    "plt.axis('equal')\n",
    "plt.show()"
   ]
  },
  {
   "cell_type": "code",
   "execution_count": 5,
   "metadata": {},
   "outputs": [],
   "source": [
    "def L2_distance(X,Y):\n",
    "    return -2.*X.dot(Y.T) + np.sum(X*X, axis=1, keepdims=True) + np.sum(Y*Y, axis=1, keepdims=True).T"
   ]
  },
  {
   "cell_type": "code",
   "execution_count": 6,
   "metadata": {},
   "outputs": [
    {
     "name": "stdout",
     "output_type": "stream",
     "text": [
      "(10, 100)\n"
     ]
    }
   ],
   "source": [
    "c = np.ones((M,1))\n",
    "\n",
    "# pairwise distances\n",
    "d = L2_distance(facilities, clients)\n",
    "print(d.shape)"
   ]
  },
  {
   "cell_type": "code",
   "execution_count": 7,
   "metadata": {},
   "outputs": [
    {
     "name": "stdout",
     "output_type": "stream",
     "text": [
      "[[ 0.  0.]\n",
      " [ 0.  0.]\n",
      " [ 0.  0.]\n",
      " [ 1.  3.]\n",
      " [ 1. 51.]\n",
      " [ 0.  0.]\n",
      " [ 1.  8.]\n",
      " [ 1. 15.]\n",
      " [ 0.  0.]\n",
      " [ 1. 22.]]\n",
      "[0. 1. 1. 1. 1. 1. 1. 1. 1. 1. 1. 1. 1. 1. 1. 1. 1. 1. 1. 1. 1. 1. 1. 1.\n",
      " 1. 1. 1. 1. 1. 1. 1. 1. 1. 1. 1. 1. 1. 1. 1. 1. 1. 1. 1. 1. 1. 1. 1. 1.\n",
      " 1. 1. 1. 1. 1. 1. 1. 1. 1. 1. 1. 1. 1. 1. 1. 1. 1. 1. 1. 1. 1. 1. 1. 1.\n",
      " 1. 1. 1. 1. 1. 1. 1. 1. 1. 1. 1. 1. 1. 1. 1. 1. 1. 1. 1. 1. 1. 1. 1. 1.\n",
      " 1. 1. 1. 1.]\n"
     ]
    }
   ],
   "source": [
    "MAX_ITER = 2000\n",
    "\n",
    "f_dual = []\n",
    "\n",
    "#alpha = 0.1\n",
    "\n",
    "lmbda = np.random.rand(M, N)\n",
    "mu = np.random.rand(1,N)\n",
    "\n",
    "proj = lambda x: np.clip(x, 0, np.inf)\n",
    "\n",
    "for i in range(MAX_ITER):\n",
    "    \n",
    "    c_ = c - np.sum(lmbda, axis=1)[:,np.newaxis]\n",
    "    y = 1.0*(c_ < 0)\n",
    "    d_ = d + lmbda + mu\n",
    "    x = 1.0*(d_ < 0)\n",
    "          \n",
    "    subgrad_lmbda = x - y\n",
    "    subgrad_mu = np.sum(x, axis=0) - 1.\n",
    "    \n",
    "    alpha = 0.5/(i+1)\n",
    "    \n",
    "    L = np.sum(c*y) + np.sum(d*x) + np.sum(lmbda*subgrad_lmbda) + np.sum(mu*subgrad_mu)\n",
    "    f_dual.append(L)\n",
    "        \n",
    "    lmbda = proj(lmbda + alpha*subgrad_lmbda)\n",
    "    mu = mu + alpha*subgrad_mu\n",
    "    \n",
    "print(np.c_[y, x.sum(axis=1)])\n",
    "print(x.sum(axis=0))"
   ]
  },
  {
   "cell_type": "code",
   "execution_count": 8,
   "metadata": {},
   "outputs": [
    {
     "data": {
      "text/plain": [
       "[<matplotlib.lines.Line2D at 0x7f28b2da5ef0>]"
      ]
     },
     "execution_count": 8,
     "metadata": {},
     "output_type": "execute_result"
    },
    {
     "data": {
      "image/png": "[encoded data removed]",
      "text/plain": [
       "<Figure size 432x288 with 1 Axes>"
      ]
     },
     "metadata": {
      "needs_background": "light"
     },
     "output_type": "display_data"
    }
   ],
   "source": [
    "it = range(MAX_ITER)\n",
    "plt.plot(it, f_dual, 'b-')"
   ]
  },
  {
   "cell_type": "code",
   "execution_count": 9,
   "metadata": {},
   "outputs": [
    {
     "name": "stdout",
     "output_type": "stream",
     "text": [
      "[3 4 6 7 9]\n"
     ]
    },
    {
     "data": {
      "image/png": "[encoded data removed]",
      "text/plain": [
       "<Figure size 432x288 with 1 Axes>"
      ]
     },
     "metadata": {
      "needs_background": "light"
     },
     "output_type": "display_data"
    }
   ],
   "source": [
    "opened_idx = np.nonzero(y)[0]\n",
    "print(opened_idx)\n",
    "\n",
    "np.random.seed(0)\n",
    "colors = np.random.rand(M,3)\n",
    "\n",
    "idx = np.argmax(x, axis=0)\n",
    "\n",
    "for i in range(M):\n",
    "    if y[i] == 0:\n",
    "        plt.plot(facilities[i,0], facilities[i,1], 'k*')\n",
    "    else:\n",
    "        plt.plot(clients[idx==i,0], clients[idx==i,1], marker='.', color=colors[i,:], linewidth=0)\n",
    "        plt.plot(facilities[i,0], facilities[i,1], marker='o', color=colors[i,:], markersize=8, markeredgewidth=1., markeredgecolor=(0, 0, 0, 1))\n",
    "\n",
    "plt.axis('equal')        \n",
    "plt.show()"
   ]
  },
  {
   "cell_type": "code",
   "execution_count": null,
   "metadata": {},
   "outputs": [],
   "source": []
  }
 ],
 "metadata": {
  "kernelspec": {
   "display_name": "Python 3",
   "language": "python",
   "name": "python3"
  },
  "language_info": {
   "codemirror_mode": {
    "name": "ipython",
    "version": 3
   },
   "file_extension": ".py",
   "mimetype": "text/x-python",
   "name": "python",
   "nbconvert_exporter": "python",
   "pygments_lexer": "ipython3",
   "version": "3.6.8"
  }
 },
 "nbformat": 4,
 "nbformat_minor": 2
}
