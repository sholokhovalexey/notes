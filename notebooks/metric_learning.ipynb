{
 "cells": [
  {
   "cell_type": "markdown",
   "metadata": {},
   "source": [
    "Биометрическая верификация личности. \n",
    "\n",
    "_Верификация_ – процесс подтверждения личности на основе биометрических характеристик, например, по отпечаткам пальцев, голосу или изображению лица. Алгоритм верификации сравнивает пару _биометрических образцов_ (эталонный и тестовый) и дает бинарный ответ о тождестве или различии личностей.\n",
    "\n",
    "Чаще всего биометрические образцы представляют собой вектора евклидова пространства.\n",
    "\n",
    "<img src=\"https://www.pyimagesearch.com/wp-content/uploads/2018/06/face_recognition_opencv_embedding.jpg\" width=400>\n",
    "\n",
    "В этом случае использование евклидовой метрики представляется естественным способом измерения сходства двух образцов. Пусть даны два биометрических образца  $x_{i},x_{j} \\in \\mathbb{R}^{d}$. \n",
    "\n",
    "Тогда решение о совпадение личностей принимается, если квадрат расстояния между ними \n",
    "\n",
    "$$ d^{2} ( x_{i},x_{j}) = \\Vert x_{i}-x_{j} \\Vert ^{2}= ( x_{i}-x_{j} )^{T} ( x_{i}-x_{j}) $$\n",
    "\n",
    "не превосходит заранее заданное пороговое значение,  $ \\tau $. Возведение метрики в квадрат нужно исключительно для удобства и не влияет на решения, принимаемые биометрической системой. Однако, обычно, не все пары биометрических образцов, принадлежащих одной личности, находятся близко (в смысле евклидовой метрики) друг другу. Точнее, правило \n",
    "\n",
    "\"_Если пара  $  ( i,j)  $ представляет одну личность, то  $ d^{2} ( x_{i},x_{j} ) < \\tau $ . Если пара  $ ( i,k) $ представляет разные личности, то  $ d^{2} ( x_{i},x_{k} ) > \\tau $_\" \n",
    "\n",
    "часто нарушается. В результате возникает задача найти такое отображение  $ g: \\mathbb{R}^{d} \\to \\mathbb{R}^{m} $, чтобы для образов исходных биометрических образцов это правило нарушалось как можно реже. На рисунке ниже слева показаны исходные образцы,  $x$ , а справа их образы,  $ x=g(x)$.\n",
    "\n",
    "<img src=\"http://ml.cecs.ucf.edu/sites/default/files/Drawing1_0.jpg\">\n",
    "\n",
    "Далее ограничимся линейными отображениями  $ g (x) =Lx $, где  $ L \\in \\mathbb{R}^{m \\times d} $.\n",
    "\n",
    "Запишем квадрат евклидовой метрики для образов: \n",
    "\n",
    "$$ d^{2} ( x_{i},x_{j} ) = \\Vert x_{i}-x_{j} \\Vert ^{2}= \\Vert Lx_{i}-Lx_{j} \\Vert ^{2}= ( x_{i}-x_{j} )^{T} L^{T} L ( x_{i}-x_{j} ) $$\n",
    "\n",
    "Вводя обозначение  $ M=L^{T}L $ , получаем т.н. метрику Махаланобиса, которая является обобщением евклидовой метрики:\n",
    "\n",
    "$$ d_{M}^{2} ( x_{i},x_{j} ) = ( x_{i}-x_{j} ) ^{T}M ( x_{i}-x_{j} )  $$\n",
    "\n",
    "Тогда задача поиска матрицы  $ L $  сводится к задаче поиска такой матрицы  $ M \\in \\mathbb{S}_{+}^{d} $ , чтобы правило\n",
    "\n",
    "\"_Если пара  $  ( i,j)  $  представляет одну личность, то $ d_{M}^{2} ( x_{i},x_{j}) - \\tau<0 $ . Если пара  $  ( i,k)  $  представляет разные личности, то  $ d_{M}^{2} ( x_{i},x_{k} ) - \\tau>0 $_\"\n",
    "\n",
    "нарушалось как можно реже. Так как удобнее работать с функциями, измеряющими сходство, а не различие, определим оценку сходства следующим образом:\n",
    "\n",
    "$$ s_{M, \\tau} ( x_{i},x_{j} ) = \\tau-d_{M}^{2} ( x_{i},x_{j} ) $$\n",
    "\n",
    "Оценка сходства зависит от параметров  $ \\theta = \\{ M, \\tau \\}  $ , которые необходимо оценить на некоторой выборке биометрических образцов. Поскольку значения параметров не ограничены сверху (умножение параметров на положительную константу не меняет решений биометрической системы), имеет смысл сформулировать задачу их оценки как следующую задачу оптимизации с ограничениями:\n",
    "\n",
    "\\begin{matrix}\n",
    " \\underset{M, \\tau}{\\text{min }} \\mathrm{tr}( M) \\\\\n",
    "\\text{s.t. } y_{ij}s_{M, \\tau} ( x_{i},x_{j} )  \\geq 0\\\\\n",
    "M\\succcurlyeq0, \\tau \\geq 0\\\\\n",
    "\\end{matrix}\n",
    "\n",
    "где  $ y_{ij}=1 $ , если пара  $( i,j) $  представляет одну личность, и $ y_{ij}=-1 $  в противном случае. Легко заметить, что решением этой задачи будут параметры с нулевыми значениями. Чтобы избавиться от этой проблемы, потребуем, чтобы неравенства выполнялись с некоторым \"зазором\", например, с единичным:\n",
    "\n",
    "\\begin{matrix}\n",
    " \\underset{M, \\tau}{\\text{min }} \\mathrm{tr}( M) \\\\\n",
    "\\text{s.t. } y_{ij}s_{M, \\tau} ( x_{i},x_{j} )  \\geq 1\\\\\n",
    "M\\succcurlyeq0, \\tau \\geq 0\\\\\n",
    "\\end{matrix}\n",
    "\n",
    "Однако на практике система неравенств в ограничениях может оказаться несовместной - не существует таких параметров, которые бы удовлетворяй данному набору ограничений, т.е. множество допустимых решений пусто. В этом случае обычно \"ослабляют\" неравенства, вводя новые переменные:\n",
    "\n",
    "\\begin{matrix}\n",
    " \\underset{M, \\tau, \\xi_{ij}}{\\text{min }} \\lambda\\mathrm{tr}( M) + \\frac{1}{N^{2}} \\sum _{i=1}^{N} \\sum _{j=1}^{N} \\xi_{ij}\\\\\n",
    "\\text{s.t. } y_{ij}s_{M, \\tau} ( x_{i},x_{j} )  \\geq 1 - \\xi_{ij}\\\\\n",
    "\\xi_{ij} \\geq 0\\\\\n",
    "M\\succcurlyeq0, \\tau \\geq 0\\\\\n",
    "\\end{matrix}\n",
    "\n",
    "Здесь  $ N $  - объем выборки, а $ \\lambda $  - заранее заданная константа. Перейдем к эквивалентной задаче, чтобы избавиться от дополнительных переменных:\n",
    "\n",
    "\\begin{matrix}\n",
    " \\underset{M, \\tau}{\\text{min }} \\lambda\\mathrm{tr}( M) + \\frac{1}{N^{2}} \\sum _{i=1}^{N} \\sum _{j=1}^{N} \\mathrm{max} (0, 1 - y_{ij}s_{M, \\tau} ( x_{i},x_{j} ))\\\\\n",
    "\\text{s.t. } M\\succcurlyeq0, \\tau \\geq 0\\\\\n",
    "\\end{matrix}\n",
    "\n",
    "и заменим не дифференцируемую функцию $ \\mathscr{l}_\\text{hinge} \\left( t \\right) = \\mathrm{max} ( 0,1-t)  $  на  $ \\mathscr{l}_\\text{logistic} (t) = \\log ( 1+\\exp ( -t) ) $ .\n",
    "\n",
    "<img src=\"http://fa.bianp.net/talks/trento_may_2015/img/logistic.svg\" width=500>\n",
    "\n",
    "Второе слагаемое в целевой функции можно интерпретировать как средний \"штраф\" за невыполнение неравенства  $ y_{ij}s_{M, \\tau} ( x_{i},x_{j} )  \\geq 0 $\n",
    "\n",
    "Итоговая задача:\n",
    "\n",
    "\\begin{matrix}\n",
    " \\underset{M, \\tau}{\\text{min }} \\lambda\\mathrm{tr}( M) + \\frac{1}{N^{2}} \\sum _{i=1}^{N} \\sum _{j=1}^{N} \\mathscr{l}_\\text{logistic}  (y_{ij}s_{M, \\tau} ( x_{i},x_{j} ))\\\\\n",
    "\\text{s.t. } M\\succcurlyeq0, \\tau \\geq 0\\\\\n",
    "\\end{matrix}\n",
    "\n",
    "Эту задачу можно решить методом проекции градиента. В этом случае проекция матрицы  $ M $  на конус положительно полуопределенных матриц  $ \\mathbb{S}_{+}^{d} $  вычисляется следующим образом:\n",
    "\n",
    "$$  \\Pi _{\\mathbb{S}_{+}^{d}} ( M ) = U \\mathrm{diag} (  [ \\mathrm{max}( 0,v_{1} ) , \\mathrm{max}( 0,v_{2} ) , \\ldots , \\mathrm{max}( 0,v_{d} )  ]  ) U^{T} $$\n",
    "\n",
    "где столбцы матрицы  $ U $  являются собственными векторами матрицы  $ M $ , а  $ v_{i} $  - ее собственными числами, т.е.  $ M = U \\mathrm{diag} (  [ v_{1},v_{2}, \\ldots ,v_{d} ] ) U^{T} $."
   ]
  },
  {
   "cell_type": "code",
   "execution_count": 1,
   "metadata": {},
   "outputs": [],
   "source": [
    "import numpy as np\n",
    "import matplotlib.pyplot as plt"
   ]
  },
  {
   "cell_type": "code",
   "execution_count": 130,
   "metadata": {},
   "outputs": [
    {
     "name": "stdout",
     "output_type": "stream",
     "text": [
      "(603, 2) (297, 2)\n"
     ]
    }
   ],
   "source": [
    "from sklearn.model_selection import train_test_split\n",
    "\n",
    "dim = 2\n",
    "\n",
    "mx = [0,5,10]\n",
    "my = [10,5,0]\n",
    "\n",
    "label_matrix = np.array([[0,1,2], [1,2,3], [2,3,4]])\n",
    "#label_matrix = np.fliplr(np.array([[0,1,2], [1,2,3], [2,3,4]]))\n",
    "#label_matrix = np.array([[0,1,2], [0,1,2], [0,1,2]])\n",
    "#label_matrix = np.array([[0,0,1], [0,1,2], [1,2,2]])\n",
    "\n",
    "data = np.zeros((0,dim))\n",
    "labels = np.zeros((0,), dtype=int)\n",
    "\n",
    "n = 100\n",
    "\n",
    "std = 1.\n",
    "for i  in range(3):\n",
    "    for j in range(3):\n",
    "        mu = np.array([mx[j], my[i]])\n",
    "        data = np.vstack((data, std*np.random.randn(n,dim) + mu))\n",
    "        labels = np.hstack((labels, label_matrix[j,i]*np.ones((n,), dtype=int)))\n",
    "\n",
    "X, X_test, y, y_test = train_test_split(data, labels, test_size=0.33, random_state=42, stratify=labels)\n",
    "\n",
    "print(X.shape, X_test.shape)"
   ]
  },
  {
   "cell_type": "code",
   "execution_count": 131,
   "metadata": {},
   "outputs": [
    {
     "data": {
      "image/png": "[encoded data removed]",
      "text/plain": [
       "<Figure size 432x288 with 1 Axes>"
      ]
     },
     "metadata": {
      "needs_background": "light"
     },
     "output_type": "display_data"
    }
   ],
   "source": [
    "color = ['b','g','r','m','k']    \n",
    "for k in np.unique(y):\n",
    "    plt.plot(X[y==k,0], X[y==k,1], color[k]+'.')\n",
    "    \n",
    "plt.axis('equal')    \n",
    "plt.show()"
   ]
  },
  {
   "cell_type": "code",
   "execution_count": 132,
   "metadata": {},
   "outputs": [],
   "source": [
    "from sklearn.preprocessing import LabelBinarizer\n",
    "\n",
    "lb = LabelBinarizer()\n",
    "lb.fit(y)\n",
    "Y = lb.transform(y)\n",
    "\n",
    "Z = 2*np.dot(Y, Y.T) - 1"
   ]
  },
  {
   "cell_type": "code",
   "execution_count": 133,
   "metadata": {},
   "outputs": [],
   "source": [
    "from scipy.special import expit\n",
    "\n",
    "def log_loss(x):   return np.logaddexp(0., -x)\n",
    "def softplus(x):   return np.logaddexp(0., x)\n",
    "def hinge_loss(x):   return np.maximum(0., 1. - x)\n",
    "def sigmoid(x):   return expit(x)\n",
    "\n",
    "\n",
    "def unpack_params(theta):\n",
    "    dim = np.int32(np.sqrt(theta.size-1))\n",
    "    b = theta[0]\n",
    "    M = theta[1:].reshape((dim, dim))\n",
    "    return b, M\n",
    "\n",
    "def pack_params(b,M):\n",
    "    dim = M.shape[0]    \n",
    "    theta = np.zeros((1+dim*dim,))\n",
    "    theta[0] = b\n",
    "    theta[1:] = M.flatten()\n",
    "    return theta\n",
    "    \n",
    "\n",
    "def regularized_risk(theta, X, Z, lmbda=0.01):  \n",
    "    N,dim = X.shape\n",
    "    b, M = unpack_params(theta)\n",
    "    \n",
    "    ss = np.sum(np.dot(X,M)*X, axis=1, keepdims=True)\n",
    "    S = b - ss - ss.T + np.dot(np.dot(X,M),X.T)\n",
    "    \n",
    "    #loss = np.mean(log_loss(Z*S)) + 0.5*lmbda*np.sum(theta**2)\n",
    "    loss = np.mean(log_loss(Z*S)) + lmbda*np.trace(M)\n",
    "    \n",
    "    G = -Z*sigmoid(-Z*S)\n",
    "    #G = -Z*(Z*S < 1.)\n",
    "    \n",
    "    XG = X*np.sum(G,axis=1, keepdims=True)\n",
    "    XGT = X*np.sum(G.T,axis=1, keepdims=True)\n",
    "    grad_M = X.T.dot(G).dot(X) - X.T.dot(XG) - X.T.dot(XGT)\n",
    "    grad_M = lmbda*np.eye(dim) + 1./N/N*grad_M\n",
    "    grad_b = 1./N/N*np.sum(G)\n",
    "    grad = pack_params(grad_b, grad_M)\n",
    "    \n",
    "    return loss, grad   \n"
   ]
  },
  {
   "cell_type": "code",
   "execution_count": 134,
   "metadata": {},
   "outputs": [
    {
     "name": "stdout",
     "output_type": "stream",
     "text": [
      "2.3401681566897726e-06\n"
     ]
    }
   ],
   "source": [
    "from scipy.optimize import check_grad\n",
    "\n",
    "L = np.random.randn(dim,dim)\n",
    "b_0 = np.random.rand()\n",
    "M_0 = np.dot(L, L.T)\n",
    "theta_0 = pack_params(b_0, M_0)\n",
    "\n",
    "func = lambda w: regularized_risk(w, X, Z, 0.0)[0]\n",
    "grad = lambda w: regularized_risk(w, X, Z, 0.0)[1]\n",
    "\n",
    "diff = check_grad(func, grad, theta_0)\n",
    "print(diff)"
   ]
  },
  {
   "cell_type": "code",
   "execution_count": 135,
   "metadata": {},
   "outputs": [],
   "source": [
    "def projection_psd(X):\n",
    "    \"\"\"Projection onto positive semidefinite cone.\"\"\"\n",
    "    es, U = np.linalg.eig(X)\n",
    "    es[es<0] = 0.\n",
    "    return U.dot(np.diag(es).dot(U.T))\n",
    "\n",
    "def projection(theta):    \n",
    "    b,M = unpack_params(theta)    \n",
    "    b = np.maximum(0., b)\n",
    "    M = projection_psd(M)    \n",
    "    theta_projected = pack_params(b, M)\n",
    "    return theta_projected"
   ]
  },
  {
   "cell_type": "code",
   "execution_count": 136,
   "metadata": {},
   "outputs": [],
   "source": [
    "def projected_gradient_descent(func_and_grad, x0, proj=lambda x: x, maxiters=100):\n",
    "    \"\"\"Projected gradient descent.\"\"\"\n",
    "    x = x0\n",
    "    _,grad = func_and_grad(x0)\n",
    "    step = np.minimum(0.01, 1.0 / np.linalg.norm(grad))\n",
    "    for iteration in range(maxiters):\n",
    "        f,grad = func_and_grad(x)\n",
    "        x = proj(x - step * grad)\n",
    "        step = step*0.999\n",
    "        if iteration % 100 == 0:\n",
    "            print('Iter: %6d, obj: %f' % (iteration, f))        \n",
    "    return x"
   ]
  },
  {
   "cell_type": "code",
   "execution_count": 137,
   "metadata": {},
   "outputs": [
    {
     "name": "stdout",
     "output_type": "stream",
     "text": [
      "Iter:      0, obj: 51.582607\n",
      "Iter:    100, obj: 0.456648\n",
      "Iter:    200, obj: 0.457187\n",
      "Iter:    300, obj: 0.457518\n",
      "Iter:    400, obj: 0.457640\n",
      "Iter:    500, obj: 0.457527\n",
      "Iter:    600, obj: 0.457157\n",
      "Iter:    700, obj: 0.456511\n",
      "Iter:    800, obj: 0.455572\n",
      "Iter:    900, obj: 0.454329\n",
      "Iter:   1000, obj: 0.452778\n",
      "Iter:   1100, obj: 0.450932\n",
      "Iter:   1200, obj: 0.448822\n",
      "Iter:   1300, obj: 0.446504\n",
      "Iter:   1400, obj: 0.444064\n",
      "Iter:   1500, obj: 0.441611\n",
      "Iter:   1600, obj: 0.439260\n",
      "Iter:   1700, obj: 0.437117\n",
      "Iter:   1800, obj: 0.435253\n",
      "Iter:   1900, obj: 0.433696\n",
      "Iter:   2000, obj: 0.432436\n",
      "Iter:   2100, obj: 0.431439\n",
      "Iter:   2200, obj: 0.422039\n",
      "Iter:   2300, obj: 0.422032\n",
      "Iter:   2400, obj: 0.422027\n",
      "Iter:   2500, obj: 0.422022\n",
      "Iter:   2600, obj: 0.422017\n",
      "Iter:   2700, obj: 0.422013\n",
      "Iter:   2800, obj: 0.422010\n",
      "Iter:   2900, obj: 0.422006\n"
     ]
    }
   ],
   "source": [
    "np.random.seed(1)\n",
    "L = np.random.randn(dim,dim)\n",
    "b_0 = np.random.rand()\n",
    "M_0 = np.dot(L, L.T)\n",
    "theta_0 = pack_params(b_0, M_0)\n",
    "\n",
    "objective = lambda w: regularized_risk(w, X, Z, 0.001)\n",
    "\n",
    "theta_opt = projected_gradient_descent(objective, theta_0, proj=projection, maxiters=3000)"
   ]
  },
  {
   "cell_type": "code",
   "execution_count": 138,
   "metadata": {},
   "outputs": [],
   "source": [
    "theta_opt = projection(theta_opt)\n",
    "\n",
    "b, M = unpack_params(theta_opt)\n",
    "\n",
    "M = M + np.eye(dim)*1e-3"
   ]
  },
  {
   "cell_type": "markdown",
   "metadata": {},
   "source": [
    "Получим матрицу преобразования $L$ с помощью [разложения Холецкого](https://ru.wikipedia.org/wiki/Разложение_Холецкого)"
   ]
  },
  {
   "cell_type": "code",
   "execution_count": 139,
   "metadata": {},
   "outputs": [],
   "source": [
    "L = np.linalg.cholesky(M) # L * L.T = M\n",
    "\n",
    "X_test_transformed = np.dot(X_test, L)"
   ]
  },
  {
   "cell_type": "code",
   "execution_count": 140,
   "metadata": {},
   "outputs": [
    {
     "data": {
      "image/png": "[encoded data removed]",
      "text/plain": [
       "<Figure size 432x288 with 1 Axes>"
      ]
     },
     "metadata": {
      "needs_background": "light"
     },
     "output_type": "display_data"
    }
   ],
   "source": [
    "for k in np.unique(y):\n",
    "    plt.plot(X_test_transformed[y_test==k,0], X_test_transformed[y_test==k,1], color[k]+'.')\n",
    "    \n",
    "plt.axis('equal')    \n",
    "plt.show()"
   ]
  },
  {
   "cell_type": "code",
   "execution_count": null,
   "metadata": {},
   "outputs": [],
   "source": []
  }
 ],
 "metadata": {
  "kernelspec": {
   "display_name": "Python 3",
   "language": "python",
   "name": "python3"
  },
  "language_info": {
   "codemirror_mode": {
    "name": "ipython",
    "version": 3
   },
   "file_extension": ".py",
   "mimetype": "text/x-python",
   "name": "python",
   "nbconvert_exporter": "python",
   "pygments_lexer": "ipython3",
   "version": "3.6.8"
  }
 },
 "nbformat": 4,
 "nbformat_minor": 2
}
