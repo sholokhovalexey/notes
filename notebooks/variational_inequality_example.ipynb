{
 "cells": [
  {
   "cell_type": "markdown",
   "metadata": {
    "collapsed": true
   },
   "source": [
    "http://pisaruk.narod.ru/slides/games/nonCoop.pdf (слайд 133, игра \"Проклятие общего\")\n",
    "\n",
    "http://om.univ.kiev.ua/users_upload/5/upload/file/2016_mmoti_semenov.pdf - экстраградиентный метод\n",
    "\n",
    "https://web.stanford.edu/class/ee364b/lectures/monotone_slides.pdf - Monotone Operators"
   ]
  },
  {
   "cell_type": "markdown",
   "metadata": {},
   "source": [
    "$F(\\mathbf{x}) = \\mathbf{x} + (\\mathbf{1}^T\\mathbf{x})\\mathbf{1} - \\mathbf{1} = (\\mathbf{I} + \\mathbf{E})\\mathbf{x} - \\mathbf{1}$\n",
    "\n",
    "[Константа Липшица](https://ru.wikipedia.org/wiki/%D0%9B%D0%B8%D0%BF%D1%88%D0%B8%D1%86%D0%B5%D0%B2%D0%BE_%D0%BE%D1%82%D0%BE%D0%B1%D1%80%D0%B0%D0%B6%D0%B5%D0%BD%D0%B8%D0%B5):\n",
    "\n",
    "$$L = \\max_{\\mathbf{x},\\mathbf{y}} \\frac{\\|F(\\mathbf{x}) - F(\\mathbf{y})\\|}{\\|\\mathbf{x} - \\mathbf{y}\\|} = \\max_{\\mathbf{x},\\mathbf{y}} \\frac{\\| \\mathbf{x} - \\mathbf{y} + \\mathbf{1}\\mathbf{1}^T(\\mathbf{x} - \\mathbf{y}) \\|}{\\|\\mathbf{x} - \\mathbf{y}\\|}$$\n",
    "\n",
    "Обозначая $\\mathbf{d} = \\mathbf{x} - \\mathbf{y}$ и предполагая, что $d_1 = d_2 = ... = d_N$, получаем что $L = N+1$."
   ]
  },
  {
   "cell_type": "code",
   "execution_count": 1,
   "metadata": {},
   "outputs": [],
   "source": [
    "import numpy as np"
   ]
  },
  {
   "cell_type": "code",
   "execution_count": 2,
   "metadata": {},
   "outputs": [],
   "source": [
    "class Operator:\n",
    "    def __init__(self, F, Lconstant):\n",
    "        self.F = F\n",
    "        self.Lipschitz_constant = Lconstant\n",
    "    def __call__(self, x):\n",
    "        return self.F(x)\n",
    "    def lipschitz_constant(self):\n",
    "        return self.Lipschitz_constant\n",
    "    "
   ]
  },
  {
   "cell_type": "code",
   "execution_count": 3,
   "metadata": {},
   "outputs": [],
   "source": [
    "def F(x):\n",
    "    return x + np.sum(x) - 1\n",
    "\n",
    "N = 7\n",
    "\n",
    "Lconstant = N+1\n",
    "\n",
    "F = Operator(F, Lconstant)"
   ]
  },
  {
   "cell_type": "code",
   "execution_count": 4,
   "metadata": {},
   "outputs": [],
   "source": [
    "from numpy.linalg import norm\n",
    "\n",
    "def extragradient(F, x0, proj=lambda x: x):\n",
    "    max_iter = 1000000\n",
    "    alpha = 1./(F.lipschitz_constant() + 1e-2)\n",
    "    x = x0.copy()\n",
    "    is_converged = False\n",
    "    for k in range(max_iter):\n",
    "        z = proj(x - alpha*F(x))\n",
    "        x = proj(x - alpha*F(z))\n",
    "        if norm(x-z)/norm(x) < 1e-8:\n",
    "            is_converged = True\n",
    "            break\n",
    "    if is_converged:\n",
    "        print('Converged!')\n",
    "    else:\n",
    "        print('Not converged!')\n",
    "    return x\n",
    "    "
   ]
  },
  {
   "cell_type": "code",
   "execution_count": 5,
   "metadata": {},
   "outputs": [
    {
     "name": "stdout",
     "output_type": "stream",
     "text": [
      "Converged!\n",
      "[0.125 0.125 0.125 0.125 0.125 0.125 0.125]\n"
     ]
    }
   ],
   "source": [
    "x0 = np.random.rand(N,)\n",
    "x_sol = extragradient(F, x0, proj=lambda x: np.clip(x, 0, 1))\n",
    "print(x_sol)"
   ]
  },
  {
   "cell_type": "code",
   "execution_count": 6,
   "metadata": {},
   "outputs": [
    {
     "name": "stdout",
     "output_type": "stream",
     "text": [
      "[0.125 0.125 0.125 0.125 0.125 0.125 0.125]\n"
     ]
    }
   ],
   "source": [
    "from numpy.linalg import solve\n",
    "\n",
    "x_sol_analytic = solve(np.eye(N) + np.ones((N,N)), np.ones((N,)))\n",
    "print(x_sol_analytic)"
   ]
  },
  {
   "cell_type": "code",
   "execution_count": 7,
   "metadata": {},
   "outputs": [
    {
     "name": "stdout",
     "output_type": "stream",
     "text": [
      "[0.125 0.125 0.125 0.125 0.125 0.125 0.125]\n"
     ]
    }
   ],
   "source": [
    "x_sol_analytic = np.ones((N))/(N+1)\n",
    "print(x_sol_analytic)"
   ]
  },
  {
   "cell_type": "code",
   "execution_count": null,
   "metadata": {},
   "outputs": [],
   "source": []
  }
 ],
 "metadata": {
  "kernelspec": {
   "display_name": "Python 3",
   "language": "python",
   "name": "python3"
  },
  "language_info": {
   "codemirror_mode": {
    "name": "ipython",
    "version": 3
   },
   "file_extension": ".py",
   "mimetype": "text/x-python",
   "name": "python",
   "nbconvert_exporter": "python",
   "pygments_lexer": "ipython3",
   "version": "3.6.8"
  }
 },
 "nbformat": 4,
 "nbformat_minor": 2
}
