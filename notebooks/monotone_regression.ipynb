{
 "cells": [
  {
   "cell_type": "code",
   "execution_count": 1,
   "metadata": {},
   "outputs": [],
   "source": [
    "import numpy as np\n",
    "import matplotlib.pyplot as plt"
   ]
  },
  {
   "cell_type": "code",
   "execution_count": 2,
   "metadata": {},
   "outputs": [],
   "source": [
    "def sigmoid(x): return 1./(1 + np.exp(-x))"
   ]
  },
  {
   "cell_type": "code",
   "execution_count": 3,
   "metadata": {},
   "outputs": [],
   "source": [
    "N = 30\n",
    "t = np.linspace(-4, 6, N)\n",
    "np.random.seed(2)\n",
    "y = np.clip(sigmoid(t) + 0.1*np.random.randn(*t.shape), 0, 1)"
   ]
  },
  {
   "cell_type": "code",
   "execution_count": 4,
   "metadata": {},
   "outputs": [],
   "source": [
    "t = np.around(t, 2)\n",
    "y = np.around(y, 2)"
   ]
  },
  {
   "cell_type": "code",
   "execution_count": 5,
   "metadata": {},
   "outputs": [
    {
     "data": {
      "image/png": "[encoded data removed]",
      "text/plain": [
       "<Figure size 432x288 with 1 Axes>"
      ]
     },
     "metadata": {
      "needs_background": "light"
     },
     "output_type": "display_data"
    }
   ],
   "source": [
    "plt.plot(t, y, '.')\n",
    "plt.show()"
   ]
  },
  {
   "cell_type": "code",
   "execution_count": 6,
   "metadata": {},
   "outputs": [
    {
     "name": "stdout",
     "output_type": "stream",
     "text": [
      "[(-4.0, 0.0), (-3.66, 0.02), (-3.31, 0.0), (-2.97, 0.21), (-2.62, 0.0), (-2.28, 0.01), (-1.93, 0.18), (-1.59, 0.05), (-1.24, 0.12), (-0.9, 0.2), (-0.55, 0.42), (-0.21, 0.68), (0.14, 0.54), (0.48, 0.51), (0.83, 0.75), (1.17, 0.7), (1.52, 0.82), (1.86, 0.98), (2.21, 0.83), (2.55, 0.93), (2.9, 0.86), (3.24, 0.95), (3.59, 1.0), (3.93, 0.88), (4.28, 0.95), (4.62, 0.97), (4.97, 0.93), (5.31, 0.88), (5.66, 0.85), (6.0, 0.98)]\n"
     ]
    }
   ],
   "source": [
    "print([x for x in zip(t,y)])"
   ]
  },
  {
   "cell_type": "code",
   "execution_count": 7,
   "metadata": {},
   "outputs": [],
   "source": [
    "min_t = np.min(t)\n",
    "max_t = np.max(t)\n",
    "delta = 0.1*(max_t - min_t)\n",
    "M = 10\n",
    "intervals = np.linspace(min_t - delta, max_t + delta, M)"
   ]
  },
  {
   "cell_type": "code",
   "execution_count": 8,
   "metadata": {},
   "outputs": [],
   "source": [
    "Z1 = np.float32(t[:,np.newaxis] > intervals[:-1])\n",
    "Z2 = np.float32(t[:,np.newaxis] < intervals[1:])\n",
    "\n",
    "D = (t[:,np.newaxis] - intervals[:-1])/np.diff(intervals)\n",
    "\n",
    "A = D*Z1*Z2 + Z1*(1 - Z2)"
   ]
  },
  {
   "cell_type": "code",
   "execution_count": 10,
   "metadata": {},
   "outputs": [],
   "source": [
    "import sys\n",
    "sys.path.append('./')\n",
    "\n",
    "from utils.simplex_projection import euclidean_proj_simplex\n",
    "\n",
    "def function(x):\n",
    "    v = A.dot(x) - y\n",
    "    return 0.5*np.inner(v,v)\n",
    "\n",
    "def gradient(x):\n",
    "    return A.T.dot(A.dot(x) - y)\n"
   ]
  },
  {
   "cell_type": "code",
   "execution_count": 11,
   "metadata": {},
   "outputs": [
    {
     "name": "stdout",
     "output_type": "stream",
     "text": [
      "2.0263956943355873e-06\n"
     ]
    }
   ],
   "source": [
    "dim = M-1\n",
    "\n",
    "x0 = np.random.rand(dim)\n",
    "\n",
    "from scipy.optimize import check_grad\n",
    "\n",
    "difference = check_grad(function, gradient, x0)\n",
    "print(difference)"
   ]
  },
  {
   "cell_type": "code",
   "execution_count": 12,
   "metadata": {},
   "outputs": [],
   "source": [
    "from scipy.linalg import norm\n",
    "from scipy.optimize import line_search\n",
    "\n",
    "def minimize_proj_gd(func, x0, grad, proj = lambda x: x, steepest=False):\n",
    "    x = x0\n",
    "    max_iter = 1000\n",
    "    k=0\n",
    "    x_old = x0*2\n",
    "    while norm(x - x_old) > 1e-4 and k<max_iter:\n",
    "        k = k+1\n",
    "        p = -grad(x) # descent direction\n",
    "        # exact search\n",
    "        x_old = x\n",
    "        if steepest:\n",
    "            alpha = minimize_scalar(lambda a: func(x + a*p), bounds=(0, np.inf)).x # solve 1-d optimization\n",
    "        # line-search to enforce strong Wolfe conditions\n",
    "        else:\n",
    "            alpha = line_search(func, grad, x, p)[0]\n",
    "        x = x - alpha*grad(x)\n",
    "        x = proj(x)\n",
    "\n",
    "    return x"
   ]
  },
  {
   "cell_type": "code",
   "execution_count": 13,
   "metadata": {},
   "outputs": [
    {
     "name": "stdout",
     "output_type": "stream",
     "text": [
      "[0.03861932 0.00867307 0.1720567  0.40242242 0.24204952 0.06014621\n",
      " 0.         0.         0.07603275]\n"
     ]
    }
   ],
   "source": [
    "x_opt = minimize_proj_gd(function, x0, gradient, proj=euclidean_proj_simplex)\n",
    "\n",
    "print(x_opt)"
   ]
  },
  {
   "cell_type": "code",
   "execution_count": 14,
   "metadata": {},
   "outputs": [
    {
     "data": {
      "image/png": "[encoded data removed]",
      "text/plain": [
       "<Figure size 432x288 with 1 Axes>"
      ]
     },
     "metadata": {
      "needs_background": "light"
     },
     "output_type": "display_data"
    }
   ],
   "source": [
    "y_hat = A.dot(x_opt)\n",
    "\n",
    "plt.plot(t, y, '.')\n",
    "plt.plot(t, y_hat)\n",
    "plt.show()"
   ]
  },
  {
   "cell_type": "code",
   "execution_count": 15,
   "metadata": {},
   "outputs": [
    {
     "name": "stdout",
     "output_type": "stream",
     "text": [
      "True\n"
     ]
    }
   ],
   "source": [
    "print(np.all(np.diff(y_hat) >= 0.))"
   ]
  },
  {
   "cell_type": "code",
   "execution_count": null,
   "metadata": {},
   "outputs": [],
   "source": []
  }
 ],
 "metadata": {
  "kernelspec": {
   "display_name": "Python 3",
   "language": "python",
   "name": "python3"
  },
  "language_info": {
   "codemirror_mode": {
    "name": "ipython",
    "version": 3
   },
   "file_extension": ".py",
   "mimetype": "text/x-python",
   "name": "python",
   "nbconvert_exporter": "python",
   "pygments_lexer": "ipython3",
   "version": "3.6.8"
  }
 },
 "nbformat": 4,
 "nbformat_minor": 2
}
