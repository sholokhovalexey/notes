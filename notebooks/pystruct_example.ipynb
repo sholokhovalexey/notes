{
 "cells": [
  {
   "cell_type": "code",
   "execution_count": 1,
   "metadata": {},
   "outputs": [],
   "source": [
    "import numpy as np\n",
    "import matplotlib.pyplot as plt\n",
    "from scipy.linalg import solve, inv, norm\n",
    "\n",
    "from cvxopt import matrix, solvers\n",
    "\n",
    "from pystruct.inference import inference_dispatch"
   ]
  },
  {
   "cell_type": "markdown",
   "metadata": {},
   "source": [
    "Пусть $y_i \\in \\{0,1,...,K-1\\}$ для $i=1,2$. Найдем решение задачи дискретной оптимизации:\n",
    "\n",
    "$$ \\min_y \\theta_1(y_1) + \\theta_2(y_2) + \\theta_{12}(y_1,y_2)$$"
   ]
  },
  {
   "cell_type": "code",
   "execution_count": 13,
   "metadata": {},
   "outputs": [],
   "source": [
    "K = 5\n",
    "\n",
    "np.random.seed(123)\n",
    "\n",
    "theta_s = np.random.randn(K,)\n",
    "theta_t = np.random.randn(K,)\n",
    "theta_st = np.random.randn(K,K)"
   ]
  },
  {
   "cell_type": "markdown",
   "metadata": {},
   "source": [
    "Наивное решение: полный перебор всех $K^2$ конфигураций переменных $y = (y_1, y_2)$."
   ]
  },
  {
   "cell_type": "code",
   "execution_count": 14,
   "metadata": {},
   "outputs": [
    {
     "name": "stdout",
     "output_type": "stream",
     "text": [
      "Solution: [4, 1]\n"
     ]
    }
   ],
   "source": [
    "f_min = np.inf\n",
    "\n",
    "for i in range(K):\n",
    "    for j in range(K):\n",
    "        f = theta_s[i] + theta_t[j] + theta_st[i,j]\n",
    "        if f < f_min:\n",
    "            f_min = f\n",
    "            y_sol = [i, j]\n",
    "            \n",
    "print('Solution:', y_sol)"
   ]
  },
  {
   "cell_type": "markdown",
   "metadata": {},
   "source": [
    "LP-релаксация:\n",
    "\n",
    "\\begin{gather}\n",
    "\\underset{\\mu}{\\text{min}} & \\theta_1^T\\mu_1 + \\theta_2^T\\mu_2 + \\theta_{12}^T\\mu_{12} \\\\\n",
    "\\text{s.t.} & 1^T\\mu_1 = 1, 1^T\\mu_2 = 1 \\\\\n",
    "& M_{\\text{vert}}\\mu_{12} = \\mu_2, M_{\\text{horz}}\\mu_{12} = \\mu_1 \\\\\n",
    "& \\mu \\geq 0\n",
    "\\end{gather}\n",
    "\n",
    "Этот метод реализован в [pystruct.inference.inference_lp](https://pystruct.github.io/generated/pystruct.inference.inference_lp.html) (очень медленный)."
   ]
  },
  {
   "cell_type": "code",
   "execution_count": 15,
   "metadata": {},
   "outputs": [],
   "source": [
    "I = np.eye(K)\n",
    "O = np.zeros((K,K))\n",
    "ones = np.ones((1,K))\n",
    "zeros = np.zeros((1,K))\n",
    "\n",
    "M_vert = np.kron(I, ones)\n",
    "M_horz = np.kron(ones, I)"
   ]
  },
  {
   "cell_type": "code",
   "execution_count": 16,
   "metadata": {},
   "outputs": [],
   "source": [
    "theta = np.hstack((theta_s, theta_t, theta_st.T.flatten())) # transp !"
   ]
  },
  {
   "cell_type": "code",
   "execution_count": 17,
   "metadata": {},
   "outputs": [
    {
     "name": "stdout",
     "output_type": "stream",
     "text": [
      "Solution: [4, 1]\n"
     ]
    }
   ],
   "source": [
    "c = theta\n",
    "\n",
    "\n",
    "G = np.block([[O, -I, M_vert],\n",
    "              [-I, O, M_horz],\n",
    "              [ones, zeros, np.zeros((1,K**2))],\n",
    "              [zeros, ones, np.zeros((1,K**2))]])\n",
    "h = np.vstack((np.zeros((2*K,1)), np.ones((2,1))))   \n",
    "\n",
    "A = -np.eye(K+K+K**2)\n",
    "b = np.zeros((K+K+K**2,1))\n",
    "\n",
    "# objective\n",
    "c = matrix(c)\n",
    "# inequalities\n",
    "A = matrix(A)\n",
    "b = matrix(b)\n",
    "# equalities\n",
    "G = matrix(G)\n",
    "h = matrix(h)\n",
    "\n",
    "\n",
    "sol=solvers.lp(c, A, b, G, h, solver='glpk')\n",
    "#print(sol)\n",
    "xx = np.array(sol['x'])\n",
    "x1 = xx[:K] # mu_1\n",
    "x2 = xx[K:2*K] # mu_2\n",
    "\n",
    "idx1 = np.argmax(x1)\n",
    "idx2 = np.argmax(x2)\n",
    "\n",
    "print('Solution:', [idx1, idx2])"
   ]
  },
  {
   "cell_type": "markdown",
   "metadata": {},
   "source": [
    "Динамическое программирование:"
   ]
  },
  {
   "cell_type": "markdown",
   "metadata": {},
   "source": [
    "Целевая функция соответствует графу, состоящему из 2-х вершин, соединенных ребром.\n",
    "\n",
    "<img src=\"http://apprize.info/data/nosql/nosql.files/image147.jpg\" width=200>\n",
    "\n",
    "Граф является _ациклическим_ (дерево), поэтому точное решение можно найти с помощью динамического программирования (в этом случае LP-релаксация также дает точное решение). Исходная задача сводится к поиску пути минимальной стоимости в графе вида (multistage graph):\n",
    "\n",
    "<img src=\"https://www.researchgate.net/profile/Bartosz_Musznicki/publication/265412778/figure/fig1/AS:392039154896896@1470480826291/A-general-structure-of-a-multi-stage-graph.png\" width=500>\n"
   ]
  },
  {
   "cell_type": "code",
   "execution_count": 18,
   "metadata": {},
   "outputs": [
    {
     "name": "stdout",
     "output_type": "stream",
     "text": [
      "Solution: [4 1]\n"
     ]
    }
   ],
   "source": [
    "n_nodes = 2\n",
    "n_edges = 1\n",
    "n_states = K\n",
    "\n",
    "unary_potentials = np.zeros((n_nodes, n_states))\n",
    "pairwise_potentials = np.zeros((n_edges, n_states, n_states))\n",
    "edges = np.zeros((n_edges, 2), dtype=np.int32) # int\n",
    "\n",
    "unary_potentials[0,:] = theta_s\n",
    "unary_potentials[1,:] = theta_t\n",
    "pairwise_potentials[0,:,:] = theta_st\n",
    "edges[0,0] = 0\n",
    "edges[0,1] = 1\n",
    "\n",
    "# Find the maximizing assignment of a pairwise discrete energy function\n",
    "y = inference_dispatch(-1.0*unary_potentials, -1.0*pairwise_potentials, edges, inference_method='max-product')\n",
    "\n",
    "print('Solution:', y)"
   ]
  },
  {
   "cell_type": "code",
   "execution_count": null,
   "metadata": {},
   "outputs": [],
   "source": []
  }
 ],
 "metadata": {
  "kernelspec": {
   "display_name": "Python 3",
   "language": "python",
   "name": "python3"
  },
  "language_info": {
   "codemirror_mode": {
    "name": "ipython",
    "version": 3
   },
   "file_extension": ".py",
   "mimetype": "text/x-python",
   "name": "python",
   "nbconvert_exporter": "python",
   "pygments_lexer": "ipython3",
   "version": "3.6.8"
  }
 },
 "nbformat": 4,
 "nbformat_minor": 2
}
