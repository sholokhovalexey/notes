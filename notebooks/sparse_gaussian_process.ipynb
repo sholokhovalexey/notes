{
 "cells": [
  {
   "cell_type": "code",
   "execution_count": 1,
   "metadata": {},
   "outputs": [],
   "source": [
    "import autograd.numpy as anp\n",
    "from autograd import value_and_grad, grad"
   ]
  },
  {
   "cell_type": "code",
   "execution_count": 2,
   "metadata": {},
   "outputs": [],
   "source": [
    "import autograd.numpy.random as npr\n",
    "import autograd.scipy.stats.multivariate_normal as mvn\n",
    "from autograd.numpy.linalg import solve"
   ]
  },
  {
   "cell_type": "code",
   "execution_count": 3,
   "metadata": {},
   "outputs": [],
   "source": [
    "from sklearn.base import BaseEstimator\n",
    "from sklearn.utils.validation import check_is_fitted"
   ]
  },
  {
   "cell_type": "code",
   "execution_count": 4,
   "metadata": {},
   "outputs": [],
   "source": [
    "from scipy.optimize import check_grad, minimize"
   ]
  },
  {
   "cell_type": "code",
   "execution_count": 5,
   "metadata": {},
   "outputs": [],
   "source": [
    "import numpy as np\n",
    "import matplotlib.pyplot as plt"
   ]
  },
  {
   "cell_type": "code",
   "execution_count": 6,
   "metadata": {},
   "outputs": [],
   "source": [
    "eps = 1e-8\n",
    "\n",
    "def logdet(X):\n",
    "    sign, logdet = np.linalg.slogdet(X)\n",
    "    return logdet\n",
    "\n",
    "def rbf_covariance(kernel_params, x, xp=None):\n",
    "    _xp = x if xp is None else xp\n",
    "    output_scale = (kernel_params[0])**2 #parametrization\n",
    "    lengthscales = (kernel_params[1:])**2 #parametrization\n",
    "    diffs = anp.expand_dims(x /lengthscales, 1) - anp.expand_dims(_xp/lengthscales, 0)\n",
    "    rbf = output_scale * anp.exp(-0.5 * anp.sum(diffs**2, axis=2))\n",
    "    return (rbf + eps * anp.eye(x.shape[0])) if xp is None else rbf # for numerical stability\n",
    "\n",
    "def unpack_kernel_params(params):\n",
    "    params = params.flatten()\n",
    "    mean        = params[0]\n",
    "    cov_params  = params[2:]\n",
    "    noise_scale = (params[1])**2 + 1e-4 #parametrization\n",
    "    return mean, cov_params, noise_scale"
   ]
  },
  {
   "cell_type": "code",
   "execution_count": 7,
   "metadata": {},
   "outputs": [],
   "source": [
    "# Gaussian Process regression\n",
    "class sparseGPR(BaseEstimator):\n",
    "    def __init__(self, cov_func):\n",
    "        self.cov_func = cov_func\n",
    " \n",
    "    def _check_is_fitted(self):\n",
    "        check_is_fitted(self, ['mean', 'kernel_params', 'noise_scale'])\n",
    "\n",
    "    def _predict_sparse_exact(self, xstar):\n",
    "        \n",
    "        M = self.M\n",
    "\n",
    "        mean, kernel_params, noise_scale = self.mean, self.kernel_params, self.noise_scale\n",
    "\n",
    "        Kmm = self.cov_func(kernel_params, self.Z, self.Z) \n",
    "        Knm = self.cov_func(kernel_params, xstar, self.Z) \n",
    "\n",
    "        #KmmInv = anp.linalg.inv(Kmm)\n",
    "        #A = anp.dot(Knm, KmmInv) # NxM solve(Kmm, Knm.T).T\n",
    "        A = solve(Kmm, Knm.T).T\n",
    "\n",
    "        # optimal mu, C \n",
    "        # [Titsias] (17) in http://www.aueb.gr/users/mtitsias/papers/sparseGPv2.pdf\n",
    "        # [Bui] (25) http://mlg.eng.cam.ac.uk/thang/docs/talks/rcc_vargp.pdf\n",
    "        Knm_ = self.cov_func(kernel_params, self.X, self.Z) \n",
    "        Sigma = Kmm + 1./noise_scale*anp.dot(Knm_.T, Knm_)\n",
    "        KmmSigmaInv = solve(Sigma, Kmm).T\n",
    "        mu = 1./noise_scale*anp.dot(anp.dot(KmmSigmaInv, Knm_.T), self.Y)\n",
    "        C = anp.dot(KmmSigmaInv, Kmm)\n",
    "\n",
    "        AC = anp.dot(A, C)\n",
    "\n",
    "        pred_mean = mean +  anp.dot(A, mu)\n",
    "        pred_cov = self.cov_func(kernel_params, xstar, xstar) - anp.dot(A, Knm.T) + anp.dot(AC, A.T) + noise_scale * anp.eye(xstar.shape[0])\n",
    "\n",
    "        return pred_mean.flatten(), pred_cov\n",
    "    \n",
    "    # predictive distribution\n",
    "    # [Titsias] (8) http://www.aueb.gr/users/mtitsias/papers/sparseGPv2.pdf\n",
    "    def predict(self, xstar):\n",
    "        \n",
    "        self._check_is_fitted()\n",
    "        \n",
    "        mean, cov = self._predict_sparse_exact(xstar)\n",
    "        return mean, cov\n",
    "\n",
    "\n",
    "    # optimal lower bound \n",
    "    #[Titsias] (16) http://www.aueb.gr/users/mtitsias/papers/sparseGPv2.pdf\n",
    "    #[Bui] (26) http://mlg.eng.cam.ac.uk/thang/docs/talks/rcc_vargp.pdf\n",
    "    def _neg_lower_bound_exact(self, hyperparams):\n",
    "\n",
    "        N = self.N\n",
    "        M = self.M\n",
    "\n",
    "        mean, kernel_params, noise_scale = unpack_kernel_params(hyperparams)\n",
    "\n",
    "        Kmm = self.cov_func(kernel_params, self.Z, self.Z) \n",
    "        #KmmInv = anp.linalg.inv(Kmm)\n",
    "        Knm_ = self.cov_func(kernel_params, self.X, self.Z) \n",
    "        Knn_ = self.cov_func(kernel_params, self.X, self.X) # precompute\n",
    "        #Qnn = anp.dot(anp.dot(Knm_,KmmInv),Knm_.T)\n",
    "        Qnn = anp.dot(solve(Kmm, Knm_.T).T, Knm_.T)\n",
    "\n",
    "        LL = mvn.logpdf(self.Y, mean + anp.zeros(self.Y.shape), noise_scale*anp.eye(N) + Qnn) - 0.5/noise_scale*( anp.trace(Knn_) - anp.trace(Qnn) )\n",
    "\n",
    "        return -LL\n",
    " \n",
    "        \n",
    "    def fit(self, x, y, z):       \n",
    "        \n",
    "        self.X = x\n",
    "        self.Y = y\n",
    "        self.Z = z\n",
    "        self.M = z.shape[0]\n",
    "        self.N = y.shape[0]\n",
    "        self.dim = x.shape[1]\n",
    "               \n",
    "        init_params = np.random.rand(3+self.dim,)\n",
    "        optimized_params = minimize(value_and_grad(lambda p: self._neg_lower_bound_exact(p)), init_params, jac=True, method='CG').x\n",
    "        \n",
    "        mean, kernel_params, noise_scale = unpack_kernel_params(optimized_params)\n",
    "        self.mean = mean\n",
    "        self.kernel_params = kernel_params\n",
    "        self.noise_scale = noise_scale\n",
    "        "
   ]
  },
  {
   "cell_type": "code",
   "execution_count": 8,
   "metadata": {},
   "outputs": [],
   "source": [
    "def build_toy_dataset(D=1, n_data=20, noise_std=0.1):\n",
    "    rs = npr.RandomState(0)\n",
    "    inputs  = np.concatenate([np.linspace(0, 3, num=n_data/2), np.linspace(6, 8, num=n_data/2)])\n",
    "    targets = (np.cos(inputs) + rs.randn(n_data) * noise_std) / 2.0\n",
    "    inputs = (inputs - 4.0) / 2.0\n",
    "    inputs  = inputs.reshape((len(inputs), D))\n",
    "    return inputs, targets"
   ]
  },
  {
   "cell_type": "code",
   "execution_count": 9,
   "metadata": {},
   "outputs": [
    {
     "name": "stderr",
     "output_type": "stream",
     "text": [
      "/home/alexey/anaconda3/lib/python3.6/site-packages/ipykernel_launcher.py:3: DeprecationWarning: object of type <class 'float'> cannot be safely interpreted as an integer.\n",
      "  This is separate from the ipykernel package so we can avoid doing imports until\n"
     ]
    }
   ],
   "source": [
    "dim = 1\n",
    "X, y = build_toy_dataset(D=dim, n_data=100, noise_std=0.1)\n",
    "\n",
    "# number of inducing inputs\n",
    "M = 10\n",
    "\n",
    "# inducing inputs\n",
    "# (default): run k-means on training set\n",
    "#kmeans = KMeans(n_clusters=M, random_state=0).fit(X)\n",
    "#Z = kmeans.cluster_centers_.reshape(M,dim)\n",
    "\n",
    "Z = np.linspace(-3, 3, M).reshape(M,dim)\n",
    "\n",
    "gp = sparseGPR(rbf_covariance)\n",
    "gp.fit(X, y, Z)\n"
   ]
  },
  {
   "cell_type": "code",
   "execution_count": 10,
   "metadata": {},
   "outputs": [
    {
     "data": {
      "image/png": "[encoded data removed]",
      "text/plain": [
       "<Figure size 432x288 with 1 Axes>"
      ]
     },
     "metadata": {
      "needs_background": "light"
     },
     "output_type": "display_data"
    }
   ],
   "source": [
    "# Show posterior marginals.\n",
    "plot_xs = np.reshape(np.linspace(-7, 7, 300), (300,1))\n",
    "pred_mean, pred_cov = gp.predict(plot_xs)\n",
    "\n",
    "marg_std = np.sqrt(np.diag(pred_cov)) # take diagonal\n",
    "\n",
    "plt.plot(plot_xs, pred_mean, 'b', linewidth=3.0)\n",
    "plt.fill(np.concatenate([plot_xs, plot_xs[::-1]]), np.concatenate([pred_mean - 1.96 * marg_std, (pred_mean + 1.96 * marg_std)[::-1]]), alpha=.15, fc='Blue', ec='None')\n",
    "\n",
    "# Show samples from posterior.\n",
    "#rs = npr.RandomState(0)\n",
    "#sampled_funcs = rs.multivariate_normal(pred_mean, pred_cov, size=2)\n",
    "#ax.plot(plot_xs, sampled_funcs.T)\n",
    "\n",
    "plt.plot(X, y, 'kx')\n",
    "plt.show()\n"
   ]
  },
  {
   "cell_type": "code",
   "execution_count": null,
   "metadata": {},
   "outputs": [],
   "source": []
  }
 ],
 "metadata": {
  "kernelspec": {
   "display_name": "Python 3",
   "language": "python",
   "name": "python3"
  },
  "language_info": {
   "codemirror_mode": {
    "name": "ipython",
    "version": 3
   },
   "file_extension": ".py",
   "mimetype": "text/x-python",
   "name": "python",
   "nbconvert_exporter": "python",
   "pygments_lexer": "ipython3",
   "version": "3.6.8"
  }
 },
 "nbformat": 4,
 "nbformat_minor": 2
}
