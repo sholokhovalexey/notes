{
 "cells": [
  {
   "cell_type": "markdown",
   "metadata": {},
   "source": [
    "__Multi-class classification__ vs. __ordinal regression__\n",
    "\n",
    "<img src=\"https://www.frontiersin.org/files/Articles/344717/fninf-12-00051-HTML/image_m/fninf-12-00051-g001.jpg\">"
   ]
  },
  {
   "cell_type": "code",
   "execution_count": 1,
   "metadata": {},
   "outputs": [],
   "source": [
    "#!pip install --upgrade https://github.com/HIPS/autograd/archive/master.zip"
   ]
  },
  {
   "cell_type": "code",
   "execution_count": 2,
   "metadata": {},
   "outputs": [],
   "source": [
    "#!pip install --upgrade https://github.com/fabianp/mord/archive/master.zip"
   ]
  },
  {
   "cell_type": "code",
   "execution_count": 3,
   "metadata": {},
   "outputs": [],
   "source": [
    "import numpy as np\n",
    "import matplotlib.pyplot as plt\n",
    "\n",
    "from scipy.linalg import norm"
   ]
  },
  {
   "cell_type": "code",
   "execution_count": 4,
   "metadata": {},
   "outputs": [],
   "source": [
    "dim = 2\n",
    "\n",
    "X = np.zeros((0,dim))\n",
    "y = np.zeros((0,))\n",
    "\n",
    "M = 100\n",
    "\n",
    "x = np.random.randn(M,2) + np.array([0,4])\n",
    "X = np.vstack((X, x))\n",
    "y = np.hstack((y, 1*np.ones(M,)))\n",
    "x = np.random.randn(M,2) + np.array([4,2])\n",
    "X = np.vstack((X, x))\n",
    "y = np.hstack((y, 2*np.ones(M,)))\n",
    "x = np.random.randn(M,2) + np.array([8,5])\n",
    "X = np.vstack((X, x))\n",
    "y = np.hstack((y, 3*np.ones(M,)))\n",
    "x = np.random.randn(M,2) + np.array([12,3])\n",
    "X = np.vstack((X, x))\n",
    "y = np.hstack((y, 4*np.ones(M,)))"
   ]
  },
  {
   "cell_type": "code",
   "execution_count": 5,
   "metadata": {},
   "outputs": [
    {
     "name": "stdout",
     "output_type": "stream",
     "text": [
      "(400, 2) (400,)\n"
     ]
    }
   ],
   "source": [
    "print(X.shape, y.shape)"
   ]
  },
  {
   "cell_type": "code",
   "execution_count": 6,
   "metadata": {},
   "outputs": [
    {
     "data": {
      "image/png": "[encoded data removed]",
      "text/plain": [
       "<Figure size 432x288 with 1 Axes>"
      ]
     },
     "metadata": {
      "needs_background": "light"
     },
     "output_type": "display_data"
    }
   ],
   "source": [
    "classes = np.unique(y)\n",
    "for k in classes:\n",
    "    plt.plot(X[y==k,0], X[y==k,1], marker='*', color=[0.4, 0.1+k*0.1, 0.1+k*0.2], linestyle = 'None')"
   ]
  },
  {
   "cell_type": "code",
   "execution_count": 7,
   "metadata": {},
   "outputs": [],
   "source": [
    "K = len(classes)"
   ]
  },
  {
   "cell_type": "markdown",
   "metadata": {},
   "source": [
    "__Ordinal regression__: _all threshold_ (AT) model\n",
    "\n",
    "http://fa.bianp.net/blog/2013/loss-functions-for-ordinal-regression/"
   ]
  },
  {
   "cell_type": "code",
   "execution_count": 8,
   "metadata": {},
   "outputs": [],
   "source": [
    "def predict_ordinal_AT(theta, X):\n",
    "    dim = X.shape[1]\n",
    "    w = theta[:dim]\n",
    "    thresholds = theta[dim:]\n",
    "    score = np.dot(X,w)\n",
    "    H = score[:,np.newaxis] > thresholds[np.newaxis,:]\n",
    "    r = 1 + np.sum(H, axis=1)\n",
    "    return r"
   ]
  },
  {
   "cell_type": "code",
   "execution_count": 30,
   "metadata": {},
   "outputs": [
    {
     "name": "stdout",
     "output_type": "stream",
     "text": [
      "Accuracy: 0.960\n",
      "[[0.98 0.02 0.   0.  ]\n",
      " [0.01 0.98 0.01 0.  ]\n",
      " [0.   0.02 0.93 0.05]\n",
      " [0.   0.   0.05 0.95]]\n"
     ]
    },
    {
     "data": {
      "image/png": "[encoded data removed]",
      "text/plain": [
       "<Figure size 432x288 with 1 Axes>"
      ]
     },
     "metadata": {
      "needs_background": "light"
     },
     "output_type": "display_data"
    }
   ],
   "source": [
    "from sklearn.metrics import accuracy_score, confusion_matrix\n",
    "\n",
    "w = np.array([1,0])*7.777\n",
    "thresholds = np.array([2,6,10])*7.777\n",
    "theta = np.hstack((w, thresholds))\n",
    "\n",
    "y_pred = predict_ordinal_AT(theta, X)\n",
    "\n",
    "acc = accuracy_score(y, y_pred)\n",
    "print(\"Accuracy: %0.3f\" % (acc))\n",
    "\n",
    "confmat = confusion_matrix(y, y_pred)\n",
    "confmat = confmat.astype('float') / confmat.sum(axis=1)[:, np.newaxis]\n",
    "print(confmat)\n",
    "plt.imshow(confmat, cmap=plt.cm.get_cmap('coolwarm'))\n",
    "plt.show()"
   ]
  },
  {
   "cell_type": "code",
   "execution_count": 27,
   "metadata": {},
   "outputs": [
    {
     "name": "stdout",
     "output_type": "stream",
     "text": [
      "Accuracy: 0.963\n",
      "[ 0.98991954 -0.14163085]\n",
      "[1.4475667  5.34311014 9.38376786]\n"
     ]
    }
   ],
   "source": [
    "import mord\n",
    "\n",
    "clf = mord.LogisticAT(alpha=1.)\n",
    "clf.fit(X, y.astype('int'))\n",
    "y_pred = clf.predict(X)\n",
    "\n",
    "acc = accuracy_score(y, y_pred)\n",
    "print(\"Accuracy: %0.3f\" % (acc))\n",
    "\n",
    "w = clf.coef_\n",
    "thresholds = clf.theta_\n",
    "\n",
    "print(w/norm(w))\n",
    "print(thresholds/norm(w))"
   ]
  },
  {
   "cell_type": "code",
   "execution_count": 11,
   "metadata": {},
   "outputs": [],
   "source": [
    "import autograd.numpy as anp\n",
    "\n",
    "def softplus(x): # = log(1 + exp(x))\n",
    "    lt_34 = (x >= 34)\n",
    "    gt_n37 = (x <= -36.8)\n",
    "    neither_nor = anp.logical_not(anp.logical_or(lt_34, gt_n37))\n",
    "    rval = anp.where(gt_n37, 0., anp.log(1 + anp.exp(x)))\n",
    "    rval = anp.where(lt_34, x, rval)    \n",
    "    return rval\n",
    "\n",
    "def log_loss(x):\n",
    "    return softplus(-x)"
   ]
  },
  {
   "cell_type": "code",
   "execution_count": 12,
   "metadata": {},
   "outputs": [
    {
     "data": {
      "text/plain": [
       "[<matplotlib.lines.Line2D at 0x7f5de453add8>]"
      ]
     },
     "execution_count": 12,
     "metadata": {},
     "output_type": "execute_result"
    },
    {
     "data": {
      "image/png": "[encoded data removed]",
      "text/plain": [
       "<Figure size 432x288 with 1 Axes>"
      ]
     },
     "metadata": {
      "needs_background": "light"
     },
     "output_type": "display_data"
    }
   ],
   "source": [
    "t = np.linspace(-50,50,100)\n",
    "plt.plot(t, log_loss(t))"
   ]
  },
  {
   "cell_type": "code",
   "execution_count": 13,
   "metadata": {},
   "outputs": [],
   "source": [
    "def _risk_ordinal(theta, X, y, beta):\n",
    "    dim = X.shape[1]\n",
    "    K = int(np.max(y))\n",
    "    w = theta[:dim]\n",
    "    thresholds = theta[dim:]\n",
    "    score = anp.dot(X,w)\n",
    "    signs = 2.*(y[:,np.newaxis] <= np.arange(1,K)[np.newaxis,:]) - 1\n",
    "    S = thresholds[anp.newaxis,:] - score[:,anp.newaxis]\n",
    "    regularizer = 0.5*beta*anp.dot(theta, theta)\n",
    "    risk = anp.mean(anp.sum(log_loss(S*signs), axis=1)) \n",
    "    return risk + regularizer"
   ]
  },
  {
   "cell_type": "code",
   "execution_count": 14,
   "metadata": {},
   "outputs": [],
   "source": [
    "from autograd.misc.optimizers import adam\n",
    "from scipy.optimize import minimize\n",
    "from autograd import grad\n",
    "\n",
    "def fit_ordinal_AT(X, y, beta=0.001, method=None):\n",
    "    dim = X.shape[1]\n",
    "    classes = np.unique(y)\n",
    "    K = len(classes)\n",
    "    \n",
    "    if method is None:\n",
    "        if (dim+K) > 1e+4:\n",
    "            method = 'gradient'\n",
    "        else:\n",
    "            method = 'LBFGS'\n",
    "    \n",
    "    params_init = np.random.randn(dim+K-1)\n",
    "    \n",
    "    if method == 'gradient':\n",
    "        objective = lambda params, i: _risk_ordinal(params, X, y, beta)\n",
    "        gradient = grad(objective)      \n",
    "        params_opt = adam(gradient, params_init, num_iters=1000, step_size=0.001)\n",
    "    elif method == 'LBFGS':       \n",
    "        objective = lambda params: _risk_ordinal(params, X, y, beta)\n",
    "        gradient = grad(objective)\n",
    "        result = minimize(objective, params_init, method='L-BFGS-B', jac=gradient, options={'gtol': 1e-5, 'disp': True}) \n",
    "        params_opt = result.x\n",
    "    else:\n",
    "        print('Wrong optimization method!')\n",
    "        params_opt = params_init\n",
    "    \n",
    "    return params_opt"
   ]
  },
  {
   "cell_type": "code",
   "execution_count": 28,
   "metadata": {},
   "outputs": [
    {
     "name": "stdout",
     "output_type": "stream",
     "text": [
      "Accuracy: 0.965\n",
      "[ 0.98791325 -0.15500777]\n",
      "[1.40281547 5.27838304 9.31309137]\n"
     ]
    }
   ],
   "source": [
    "theta_opt = fit_ordinal_AT(X, y, beta=0.0)\n",
    "\n",
    "y_pred = predict_ordinal_AT(theta_opt, X)\n",
    "\n",
    "acc = accuracy_score(y, y_pred)\n",
    "print(\"Accuracy: %0.3f\" % (acc))\n",
    "\n",
    "w = theta_opt[:dim]\n",
    "thresholds = theta_opt[dim:]\n",
    "print(w/norm(w))\n",
    "print(thresholds/norm(w))"
   ]
  },
  {
   "cell_type": "markdown",
   "metadata": {},
   "source": [
    "__Multi-class classification__: _softmax regression_"
   ]
  },
  {
   "cell_type": "code",
   "execution_count": 19,
   "metadata": {},
   "outputs": [],
   "source": [
    "from autograd.scipy.misc import logsumexp\n",
    "\n",
    "def predict_softmax(theta, X, K, return_log_probs=False):\n",
    "    dim = X.shape[1]\n",
    "    W = theta[:K*dim].reshape((K,dim))\n",
    "    b = theta[K*dim:]\n",
    "    scores = anp.dot(X, W.T) + b.T\n",
    "    if return_log_probs:\n",
    "        log_prob = scores - logsumexp(scores, axis=1, keepdims=True)\n",
    "        #prob = anp.exp(log_prob)\n",
    "        return y, log_prob\n",
    "    else:\n",
    "        return np.argmax(scores, axis=1) + 1 # !!!\n",
    "\n",
    "def _risk_softmax(theta, X, Y, beta):\n",
    "    dim = X.shape[1]\n",
    "    K = int(np.max(y))\n",
    "    _, log_prob = predict_softmax(theta, X, K, return_log_probs=True)\n",
    "    regularizer = 0.5*beta*anp.dot(theta, theta)\n",
    "    risk = (-1.)*anp.mean(anp.sum(log_prob * Y, axis=1))\n",
    "    return risk + regularizer"
   ]
  },
  {
   "cell_type": "code",
   "execution_count": 20,
   "metadata": {},
   "outputs": [],
   "source": [
    "from sklearn.preprocessing import LabelBinarizer\n",
    "\n",
    "def fit_softmax(X, y, beta=0.001, method=None):\n",
    "    dim = X.shape[1]\n",
    "    classes = np.unique(y)\n",
    "    K = len(classes)\n",
    "    \n",
    "    if method is None:\n",
    "        if (K*dim+K) > 1e+4:\n",
    "            method = 'gradient'\n",
    "        else:\n",
    "            method = 'LBFGS'  \n",
    "\n",
    "    lb = LabelBinarizer()\n",
    "    Y = lb.fit_transform(y)\n",
    "    \n",
    "    params_init = np.random.randn(K*dim+K)\n",
    "    \n",
    "    if method == 'gradient':\n",
    "        objective = lambda params, i: _risk_softmax(params, X, Y, beta)\n",
    "        gradient = grad(objective)      \n",
    "        params_opt = adam(gradient, params_init, num_iters=1000, step_size=0.001)\n",
    "    elif method == 'LBFGS':       \n",
    "        objective = lambda params: _risk_softmax(params, X, Y, beta)\n",
    "        gradient = grad(objective)\n",
    "        result = minimize(objective, params_init, method='L-BFGS-B', jac=gradient, options={'gtol': 1e-5, 'disp': True}) \n",
    "        params_opt = result.x\n",
    "    else:\n",
    "        print('Wrong optimization method!')\n",
    "        params_opt = params_init\n",
    "    \n",
    "    return params_opt"
   ]
  },
  {
   "cell_type": "code",
   "execution_count": 26,
   "metadata": {},
   "outputs": [
    {
     "name": "stdout",
     "output_type": "stream",
     "text": [
      "Accuracy: 0.973\n"
     ]
    }
   ],
   "source": [
    "theta_opt = fit_softmax(X, y, beta=0.0)\n",
    "\n",
    "y_pred = predict_softmax_(theta_opt, X, K)\n",
    "\n",
    "acc = accuracy_score(y, y_pred)\n",
    "print(\"Accuracy: %0.3f\" % (acc))"
   ]
  },
  {
   "cell_type": "code",
   "execution_count": null,
   "metadata": {},
   "outputs": [],
   "source": []
  }
 ],
 "metadata": {
  "kernelspec": {
   "display_name": "Python 3",
   "language": "python",
   "name": "python3"
  },
  "language_info": {
   "codemirror_mode": {
    "name": "ipython",
    "version": 3
   },
   "file_extension": ".py",
   "mimetype": "text/x-python",
   "name": "python",
   "nbconvert_exporter": "python",
   "pygments_lexer": "ipython3",
   "version": "3.6.8"
  }
 },
 "nbformat": 4,
 "nbformat_minor": 2
}
