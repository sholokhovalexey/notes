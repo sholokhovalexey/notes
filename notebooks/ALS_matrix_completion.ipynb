{
 "cells": [
  {
   "cell_type": "markdown",
   "metadata": {},
   "source": [
    "[Как работают рекомендательные системы. Лекция в Яндексе](https://habr.com/ru/company/yandex/blog/241455/)\n",
    "\n",
    "\n",
    "Пусть дана матрица оценок $\\mathbf{R} \\in \\mathbb{R}^{m \\times n}$, для которой известны значения лишь подмножества ее элементов\n",
    "$\\Omega \\subset \\{(i,j)|1 \\leq i \\leq m, 1 \\leq j \\leq n \\}$.\n",
    "\n",
    "Идея заключается в том, чтобы аппроксимировать $\\mathbf{R}$ матрицей низкого ранга."
   ]
  },
  {
   "cell_type": "markdown",
   "metadata": {},
   "source": [
    "__Сингулярное разложение__\n",
    "\n",
    "Сингулярное разложение (Singular Value Decomposition, SVD) — декомпозиция вещественной  или комплексной прямоугольной матрицы с целью ее приведения к каноническому виду. Сингулярное разложение показывает геометрическую структуру матрицы и позволяет наглядно представить имеющиеся данные. Сингулярное разложение используется при решении самых разных задач — от приближения методом наименьших квадратов и решения систем уравнений до сжатия изображений. \n",
    "\n",
    "<img src=\"https://openi.nlm.nih.gov/imgs/512/77/3092990/PMC3092990_hir-17-24-g001.png\">\n",
    "\n",
    "_Сингулярным разложением_ матрицы $\\mathbf{A}$ является разложение следующего вида\n",
    "$$ \\mathbf{A} = \\mathbf{U} \\mathbf{\\Sigma} \\mathbf{V}^T $$\n",
    "\n",
    "где $\\mathbf{\\Sigma}$  — матрица с неотрицательными элементами, у которой элементы, лежащие на главной диагонали - это _сингулярные числа_ (а все элементы, не лежащие на главной диагонали, являются нулевыми), а матрицы $\\mathbf{U}$  и $\\mathbf{V}$ - это две унитарные матрицы, состоящие из левых и правых _сингулярных векторов_ соответственно.\n",
    "\n",
    "Векторы $\\mathbf{u}_i$ и $\\mathbf{v}_i$ называются, соответственно, левым сингулярным вектором и правым сингулярным вектором, соответствующим сингулярному числу $\\sigma_i$:\n",
    "\n",
    "$\\mathbf{A} \\mathbf{v}_i = \\sigma_i \\mathbf{u}_i$\n",
    "\n",
    "$\\mathbf{A}^T \\mathbf{u}_i = \\sigma_i \\mathbf{v}_i$"
   ]
  },
  {
   "cell_type": "markdown",
   "metadata": {},
   "source": [
    "__Теорема Эккарта-Янга__\n",
    "\n",
    "Пусть заданную матрицу $\\mathbf{R} = \\mathbf{U} \\mathbf{\\Sigma} \\mathbf{V}^T$ требуется приблизить некоторой другой матрицей $\\mathbf{X}$ тех же размеров, но меньшего ранга $k$. Тогда\n",
    "\n",
    "$$\\arg\\min_{\\mathrm{rank}(X)=k} {\\lVert \\mathbf{R} - \\mathbf{X}  \\rVert}^2_F = \\mathbf{U}_k \\mathbf{\\Sigma}_k \\mathbf{V}_k^T = \\sum_{i=1}^k {\\sigma_i \\mathbf{u}_i \\mathbf{v}_i^T}$$\n",
    "\n",
    "где $\\mathbf{\\Sigma}_k$ - диагональная матрица, содержащая $k$ максимальных сингулярных чисел матрицы $\\mathbf{R}$ на главной диагонали, $\\mathbf{U}_k$ и $\\mathbf{V}_k$ - матрицы, состоящие из $k$ столбцов - сингулярных векторов, отвечающих старшим сингулярным числам."
   ]
  },
  {
   "cell_type": "markdown",
   "metadata": {},
   "source": [
    "Альтернативная формулировка задачи - представитиь искомую матрицу как произведение матриц низкого ранга:\n",
    "\n",
    "$$\\mathbf{R} \\approx \\mathbf{P}^T \\mathbf{Q}$$\n",
    "\n",
    "Найти такие матрицы можно минимизируя невязку (ошибку аппроксимации) для множества наблюдаемых элементов $\\Omega$:\n",
    "\n",
    "$$\\min_{\\mathbf{P}, \\mathbf{Q}} \\frac{1}{2}\\sum_{(i,j) \\in \\Omega} (r_{ij} - \\mathbf{p}_i^T \\mathbf{q}_j)^2 $$\n",
    "\n",
    "или\n",
    "\n",
    "$$ \\min_{\\mathbf{P}, \\mathbf{Q}} \\frac{1}{2} {\\lVert \\mathcal{P}_{\\Omega}(\\mathbf{R}) -  \\mathcal{P}_{\\Omega}(\\mathbf{P}^T \\mathbf{Q}) \\rVert}^2_F $$\n",
    "\n",
    "где $\\mathcal{P}_{\\Omega}(\\mathbf{R})$ обнуляет все элементы матрицы $\\mathbf{R}$, не принадлежащие множеству $\\Omega$."
   ]
  },
  {
   "cell_type": "markdown",
   "metadata": {},
   "source": [
    "[Метод покоординатного спуска](http://www.machinelearning.ru/wiki/index.php?title=%D0%9C%D0%B5%D1%82%D0%BE%D0%B4_%D0%BF%D0%BE%D0%BA%D0%BE%D0%BE%D1%80%D0%B4%D0%B8%D0%BD%D0%B0%D1%82%D0%BD%D0%BE%D0%B3%D0%BE_%D1%81%D0%BF%D1%83%D1%81%D0%BA%D0%B0)\n",
    "\n",
    "<img src=\"http://danielnee.com/wp-content/uploads/2015/04/Matrix-Factorisation-1.png\">\n",
    "\n",
    "<img src=\"http://kevinkolcheck.com/wp-content/uploads/2017/12/mf-min.png\" width=500>"
   ]
  },
  {
   "cell_type": "code",
   "execution_count": 1,
   "metadata": {
    "collapsed": true
   },
   "outputs": [],
   "source": [
    "import numpy as np\n",
    "import matplotlib.pyplot as plt\n",
    "\n",
    "from scipy.sparse import coo_matrix"
   ]
  },
  {
   "cell_type": "code",
   "execution_count": 2,
   "metadata": {
    "collapsed": true
   },
   "outputs": [],
   "source": [
    "from surprise import Dataset\n",
    "from surprise.model_selection import train_test_split"
   ]
  },
  {
   "cell_type": "code",
   "execution_count": 3,
   "metadata": {
    "collapsed": true
   },
   "outputs": [],
   "source": [
    "# Load the movielens-100k dataset (download it if needed).\n",
    "data_ml_100k = Dataset.load_builtin('ml-100k')"
   ]
  },
  {
   "cell_type": "code",
   "execution_count": 69,
   "metadata": {
    "collapsed": true
   },
   "outputs": [],
   "source": [
    "trainset, testset = train_test_split(data_ml_100k, test_size=.25)"
   ]
  },
  {
   "cell_type": "markdown",
   "metadata": {},
   "source": [
    "Реализация из библиотеки [Surprise](http://surpriselib.com/)"
   ]
  },
  {
   "cell_type": "code",
   "execution_count": 70,
   "metadata": {},
   "outputs": [],
   "source": [
    "from surprise import SVD\n",
    "from surprise import accuracy\n",
    "\n",
    "algo = SVD(n_factors=100, biased=False)\n",
    "\n",
    "# Train the algorithm on the trainset, and predict ratings for the testset\n",
    "algo.fit(trainset)\n",
    "\n",
    "predictions = algo.test(testset)"
   ]
  },
  {
   "cell_type": "markdown",
   "metadata": {},
   "source": [
    "Оценка качества прогнозов: root-mean-square error (RMSE)\n",
    "\n",
    "<img src=\"https://cdn-images-1.medium.com/max/1600/1*9hQVcasuwx5ddq_s3MFCyw.gif\">"
   ]
  },
  {
   "cell_type": "code",
   "execution_count": 71,
   "metadata": {},
   "outputs": [
    {
     "name": "stdout",
     "output_type": "stream",
     "text": [
      "RMSE: 0.9496\n",
      "Test RMSE: 0.949568505755803\n"
     ]
    }
   ],
   "source": [
    "# Compute RMSE\n",
    "RMSE = accuracy.rmse(predictions)\n",
    "print('Test RMSE:', RMSE)"
   ]
  },
  {
   "cell_type": "markdown",
   "metadata": {},
   "source": [
    "Преобразование обучающих данных в разреженную матрицу в формате [coo](http://scipy-lectures.org/advanced/scipy_sparse/coo_matrix.html)."
   ]
  },
  {
   "cell_type": "code",
   "execution_count": 72,
   "metadata": {},
   "outputs": [],
   "source": [
    "n = trainset.n_ratings\n",
    "\n",
    "data = np.zeros((n,))\n",
    "row = np.zeros((n,))\n",
    "col = np.zeros((n,))\n",
    "\n",
    "idx = 0    \n",
    "for user, item, rating in trainset.all_ratings(): \n",
    "    data[idx] = rating\n",
    "    row[idx] = user\n",
    "    col[idx] = item\n",
    "    idx += 1\n",
    "\n",
    "R_ml_100k_train = coo_matrix((data, (row,col)), shape=(trainset.n_users, trainset.n_items))        \n"
   ]
  },
  {
   "cell_type": "code",
   "execution_count": 73,
   "metadata": {},
   "outputs": [
    {
     "name": "stdout",
     "output_type": "stream",
     "text": [
      "(943, 1643)\n"
     ]
    }
   ],
   "source": [
    "print(R_ml_100k_train.shape)"
   ]
  },
  {
   "cell_type": "code",
   "execution_count": 74,
   "metadata": {},
   "outputs": [
    {
     "name": "stdout",
     "output_type": "stream",
     "text": [
      "75000\n"
     ]
    }
   ],
   "source": [
    "print(R_ml_100k_train.nnz)"
   ]
  },
  {
   "cell_type": "code",
   "execution_count": 75,
   "metadata": {},
   "outputs": [
    {
     "data": {
      "image/png": "[encoded data removed]",
      "text/plain": [
       "<Figure size 432x288 with 1 Axes>"
      ]
     },
     "metadata": {},
     "output_type": "display_data"
    }
   ],
   "source": [
    "plt.imshow(R_ml_100k_train.todense())\n",
    "plt.show()"
   ]
  },
  {
   "cell_type": "markdown",
   "metadata": {},
   "source": [
    "Преобразование тестовых данных в разреженную матрицу."
   ]
  },
  {
   "cell_type": "code",
   "execution_count": 76,
   "metadata": {
    "collapsed": true
   },
   "outputs": [],
   "source": [
    "n = len(testset)\n",
    "\n",
    "data = []\n",
    "row = []\n",
    "col = []\n",
    "\n",
    "for user, item, rating in testset:\n",
    "    try:\n",
    "        user, item = trainset.to_inner_uid(user), trainset.to_inner_iid(item)\n",
    "    except:\n",
    "        continue\n",
    "    data.append(rating)\n",
    "    row.append(user)\n",
    "    col.append(item)\n",
    "    \n",
    "R_ml_100k_test = coo_matrix((data, (row,col)), shape=(trainset.n_users, trainset.n_items))\n"
   ]
  },
  {
   "cell_type": "code",
   "execution_count": 77,
   "metadata": {},
   "outputs": [
    {
     "name": "stdout",
     "output_type": "stream",
     "text": [
      "(943, 1643)\n"
     ]
    }
   ],
   "source": [
    "print(R_ml_100k_test.shape)"
   ]
  },
  {
   "cell_type": "code",
   "execution_count": 78,
   "metadata": {},
   "outputs": [
    {
     "name": "stdout",
     "output_type": "stream",
     "text": [
      "24955\n"
     ]
    }
   ],
   "source": [
    "print(R_ml_100k_test.nnz)"
   ]
  },
  {
   "cell_type": "code",
   "execution_count": 79,
   "metadata": {},
   "outputs": [
    {
     "data": {
      "image/png": "[encoded data removed]",
      "text/plain": [
       "<Figure size 432x288 with 1 Axes>"
      ]
     },
     "metadata": {},
     "output_type": "display_data"
    }
   ],
   "source": [
    "plt.imshow(R_ml_100k_test.todense())\n",
    "plt.show()"
   ]
  },
  {
   "cell_type": "code",
   "execution_count": 80,
   "metadata": {
    "collapsed": true
   },
   "outputs": [],
   "source": [
    "def als(R, n_factors=100, lmbda=0.05, max_iter=50):\n",
    "    \n",
    "    row = R.row\n",
    "    col = R.col\n",
    "    ratings = R.data\n",
    "    \n",
    "    M,N = R.shape\n",
    "    \n",
    "    U = np.random.rand(n_factors, M)\n",
    "    V = np.random.rand(n_factors, N)\n",
    "    \n",
    "    I = np.eye(n_factors)\n",
    "    \n",
    "    for iteration in range(max_iter):\n",
    "        \n",
    "        for i in range(M):\n",
    "            idx_nonzero = col[row==i]\n",
    "            vv = V[:,idx_nonzero]        \n",
    "            A = np.dot(vv, vv.T) + lmbda*I\n",
    "            b = np.dot(vv, ratings[row==i])\n",
    "            #U[:,i] = np.linalg.inv(A).dot(b)\n",
    "            U[:,i] = np.linalg.solve(A,b)\n",
    "        \n",
    "        for j in range(N):\n",
    "            idx_nonzero = row[col==j]\n",
    "            uu = U[:,idx_nonzero] \n",
    "            A = np.dot(uu, uu.T) + lmbda*I\n",
    "            b = np.dot(uu, ratings[col==j])\n",
    "            #V[:,j] = np.linalg.inv(A).dot(b)\n",
    "            V[:,j] = np.linalg.solve(A,b)\n",
    "        \n",
    "        if iteration % 10 == 0:\n",
    "\n",
    "            R_hat = np.dot(U.T, V)\n",
    "            ratings_hat = R_hat[row,col]\n",
    "            \n",
    "            RMSE = np.sqrt(np.mean((ratings - ratings_hat)**2))\n",
    "            print('Iteration: %i, Train RMSE: %0.6f' % (iteration, RMSE))\n",
    "            \n",
    "    return np.dot(U.T, V)\n"
   ]
  },
  {
   "cell_type": "code",
   "execution_count": 81,
   "metadata": {},
   "outputs": [
    {
     "name": "stdout",
     "output_type": "stream",
     "text": [
      "Iteration: 0, Train RMSE: 0.212083\n",
      "Iteration: 10, Train RMSE: 0.076363\n",
      "Iteration: 20, Train RMSE: 0.066831\n",
      "Iteration: 30, Train RMSE: 0.064188\n",
      "Iteration: 40, Train RMSE: 0.063017\n"
     ]
    }
   ],
   "source": [
    "K = 200\n",
    "R_predicted = als(R_ml_100k_train, K, 0.8)"
   ]
  },
  {
   "cell_type": "code",
   "execution_count": 82,
   "metadata": {},
   "outputs": [
    {
     "name": "stdout",
     "output_type": "stream",
     "text": [
      "Test RMSE: 1.0063693080396987\n"
     ]
    }
   ],
   "source": [
    "row_test = R_ml_100k_test.row\n",
    "col_test = R_ml_100k_test.col\n",
    "\n",
    "ratings_test = R_ml_100k_test.data\n",
    "\n",
    "ratings_predicted = R_predicted[row_test,col_test]\n",
    "\n",
    "RMSE = np.sqrt(np.mean((ratings_predicted - ratings_test)**2))\n",
    "print('Test RMSE:', RMSE)"
   ]
  },
  {
   "cell_type": "code",
   "execution_count": null,
   "metadata": {
    "collapsed": true
   },
   "outputs": [],
   "source": []
  }
 ],
 "metadata": {
  "kernelspec": {
   "display_name": "Python 3",
   "language": "python",
   "name": "python3"
  },
  "language_info": {
   "codemirror_mode": {
    "name": "ipython",
    "version": 3
   },
   "file_extension": ".py",
   "mimetype": "text/x-python",
   "name": "python",
   "nbconvert_exporter": "python",
   "pygments_lexer": "ipython3",
   "version": "3.6.8"
  }
 },
 "nbformat": 4,
 "nbformat_minor": 2
}
