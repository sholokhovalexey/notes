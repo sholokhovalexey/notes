{
 "cells": [
  {
   "cell_type": "markdown",
   "metadata": {
    "collapsed": true
   },
   "source": [
    "_Vectorization_ refers to a powerful way to speed up your algorithms. Numerical computing and parallel computing researchers have put decades of work into making certain numerical operations (such as matrix-matrix multiplication, matrix-matrix addition, matrix-vector multiplication) fast. The idea of vectorization is that we would like to express your algorithms in terms of these highly optimized operations. \n",
    "\n",
    "__Whenever possible, avoid using explicit for-loops in your code.__\n",
    "\n",
    "http://ufldl.stanford.edu/wiki/index.php/Vectorization"
   ]
  },
  {
   "cell_type": "markdown",
   "metadata": {},
   "source": [
    "Пример 1:\n",
    "\n",
    "$f = w^Tx$"
   ]
  },
  {
   "cell_type": "code",
   "execution_count": 1,
   "metadata": {},
   "outputs": [],
   "source": [
    "import numpy as np\n",
    "\n",
    "def dot_product(a, b):\n",
    "    n = len(a)\n",
    "    result = 0\n",
    "    for i in range(n):\n",
    "        result += a[i]*b[i]\n",
    "    return result\n",
    "\n",
    "def dot_product_vectorized(a, b):\n",
    "    return np.dot(a,b)"
   ]
  },
  {
   "cell_type": "code",
   "execution_count": 9,
   "metadata": {},
   "outputs": [
    {
     "name": "stdout",
     "output_type": "stream",
     "text": [
      "Before vectorization: 0.3189702033996582\n",
      "After vectorization: 0.0021812915802001953\n",
      "diff = 2.8194335755e-11\n"
     ]
    }
   ],
   "source": [
    "import time\n",
    "\n",
    "dim = 10**6\n",
    "a = np.random.randn(dim,)\n",
    "b = np.random.randn(dim,)\n",
    "\n",
    "#\n",
    "start = time.time()\n",
    "f1 = dot_product(a, b)\n",
    "end = time.time()\n",
    "print('Before vectorization:', end - start)\n",
    "\n",
    "#\n",
    "start = time.time()\n",
    "f2 = dot_product_vectorized(a, b)\n",
    "end = time.time()\n",
    "print('After vectorization:', end - start)\n",
    "\n",
    "print('diff =', np.abs(f1 - f2))"
   ]
  },
  {
   "cell_type": "markdown",
   "metadata": {},
   "source": [
    "Пример 2:\n",
    "\n",
    "$ f = \\sum_{i=1}^n \\log \\left( 1 + \\exp \\left( \\sum_{j=1}^d w_j x_{ij} \\right) \\right) + \\sum_{j=1}^d w_j^2 $"
   ]
  },
  {
   "cell_type": "code",
   "execution_count": 40,
   "metadata": {},
   "outputs": [],
   "source": [
    "def f(X, w):\n",
    "    n,d = X.shape\n",
    "    J = 0\n",
    "    for i in range(n):\n",
    "        inner_product = 0\n",
    "        for j in range(d):\n",
    "            inner_product += w[j]*X[i,j]\n",
    "        J = J + np.log(1 + np.exp(inner_product))\n",
    "    for j in range(d):\n",
    "        J = J + w[j]**2\n",
    "    return J\n",
    "\n",
    "def f_vectorized(X, w):\n",
    "    J = np.sum(np.log(1 + np.exp(np.dot(X, w)))) + np.sum(w**2) # YOUR CODE\n",
    "    return J"
   ]
  },
  {
   "cell_type": "code",
   "execution_count": 41,
   "metadata": {},
   "outputs": [
    {
     "name": "stdout",
     "output_type": "stream",
     "text": [
      "Before vectorization: 3.578139066696167\n",
      "After vectorization: 0.009175300598144531\n",
      "diff = 2.84217094304e-13\n"
     ]
    }
   ],
   "source": [
    "N = 10**4\n",
    "dim = 10**3\n",
    "\n",
    "X = np.random.rand(N ,dim)*0.1\n",
    "w = np.random.rand(dim,)\n",
    "\n",
    "#\n",
    "start = time.time()\n",
    "f1 = f(X, w)\n",
    "end = time.time()\n",
    "print('Before vectorization:', end - start)\n",
    "\n",
    "#\n",
    "start = time.time()\n",
    "f2 = f_vectorized(X, w)\n",
    "end = time.time()\n",
    "print('After vectorization:', end - start)\n",
    "\n",
    "print('diff =', np.abs(f1 - f2))"
   ]
  },
  {
   "cell_type": "code",
   "execution_count": null,
   "metadata": {},
   "outputs": [],
   "source": []
  }
 ],
 "metadata": {
  "kernelspec": {
   "display_name": "Python 3",
   "language": "python",
   "name": "python3"
  },
  "language_info": {
   "codemirror_mode": {
    "name": "ipython",
    "version": 3
   },
   "file_extension": ".py",
   "mimetype": "text/x-python",
   "name": "python",
   "nbconvert_exporter": "python",
   "pygments_lexer": "ipython3",
   "version": "3.6.8"
  }
 },
 "nbformat": 4,
 "nbformat_minor": 2
}
