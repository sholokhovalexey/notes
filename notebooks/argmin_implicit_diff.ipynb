{
 "cells": [
  {
   "cell_type": "markdown",
   "metadata": {},
   "source": [
    "Вычисление частных производных относительно параметров квадратичной программы: https://arxiv.org/pdf/1703.00443.pdf"
   ]
  },
  {
   "cell_type": "code",
   "execution_count": 1,
   "metadata": {},
   "outputs": [],
   "source": [
    "import numpy as np\n",
    "from scipy.linalg import norm"
   ]
  },
  {
   "cell_type": "code",
   "execution_count": 2,
   "metadata": {},
   "outputs": [],
   "source": [
    "from utils.simplex_projection import euclidean_proj_simplex\n",
    "\n",
    "def euclidean_proj_l1_ball(v, s=1):\n",
    "    u = np.abs(v)\n",
    "    if u.sum() <= s:\n",
    "        return v\n",
    "    w = euclidean_proj_simplex(u, s=s)\n",
    "    w *= np.sign(v)\n",
    "    return w"
   ]
  },
  {
   "cell_type": "code",
   "execution_count": 3,
   "metadata": {},
   "outputs": [],
   "source": [
    "def projected_gradient_descent(objective_and_grad, x0, project=lambda x: x, stepsize=1e-3, reltol=1e-3, maxiters=1000):\n",
    "    x = x0.copy()\n",
    "    for k in range(maxiters):\n",
    "        f, grad = objective_and_grad(x)\n",
    "        xp = project(x - stepsize*grad)\n",
    "        if norm(x - xp)/norm(x) < reltol:\n",
    "            break\n",
    "        x = xp\n",
    "    return x"
   ]
  },
  {
   "cell_type": "markdown",
   "metadata": {},
   "source": [
    "Пример: LASSO\n",
    "\n",
    "Пусть дана функция $f$ скалярного аргумента:\n",
    "\n",
    "$$ f(\\gamma) = g(x_*(\\gamma)) $$\n",
    "\n",
    "где $ x_*(\\gamma) = \\arg\\min_x \\|Ax - b\\|_2^2, \\mathrm{s.t.} \\|x\\|_1 \\leq \\gamma $ и $g$ - произвольная дифференцируемая функция.\n",
    "\n",
    "Необходимо найти производную функции $f$."
   ]
  },
  {
   "cell_type": "code",
   "execution_count": 5,
   "metadata": {},
   "outputs": [],
   "source": [
    "gamma = 0.2"
   ]
  },
  {
   "cell_type": "code",
   "execution_count": 6,
   "metadata": {},
   "outputs": [],
   "source": [
    "dim = 3\n",
    "n = 10\n",
    "\n",
    "np.random.seed(0)\n",
    "A = np.random.randn(n, dim)\n",
    "b = np.random.randn(n,)\n",
    "\n",
    "def objective_and_grad(x):\n",
    "    e = np.dot(A,x) - b\n",
    "    return 0.5*np.sum(e**2), np.dot(A.T,e)"
   ]
  },
  {
   "cell_type": "markdown",
   "metadata": {},
   "source": [
    "Пусть, например, $g(x) = \\mathrm{exp}(x)$."
   ]
  },
  {
   "cell_type": "code",
   "execution_count": 14,
   "metadata": {},
   "outputs": [],
   "source": [
    "def some_function_and_grad(x):\n",
    "    exp_ = np.exp(x)\n",
    "    return np.sum(exp_), exp_"
   ]
  },
  {
   "cell_type": "markdown",
   "metadata": {},
   "source": [
    "Будем искать решение задачи оптимизации методом проекции градиента."
   ]
  },
  {
   "cell_type": "code",
   "execution_count": 16,
   "metadata": {},
   "outputs": [],
   "source": [
    "def funcion(gamma):\n",
    "    proj = lambda x: euclidean_proj_l1_ball(x, gamma)\n",
    "    x0 = np.random.randn(dim,)\n",
    "    x = projected_gradient_descent(objective_and_grad, x0, project=proj, reltol=1e-5, maxiters=200)\n",
    "    return some_function_and_grad(x)[0] # arbitrary function of x"
   ]
  },
  {
   "cell_type": "markdown",
   "metadata": {},
   "source": [
    "Решение системы порожденной условиями Каруша-Куна-Таккера"
   ]
  },
  {
   "cell_type": "code",
   "execution_count": 17,
   "metadata": {},
   "outputs": [
    {
     "name": "stdout",
     "output_type": "stream",
     "text": [
      "[-0.   0.  -0.2]\n"
     ]
    }
   ],
   "source": [
    "proj = lambda x: euclidean_proj_l1_ball(x, gamma)\n",
    "x0 = np.random.randn(dim,)\n",
    "x = projected_gradient_descent(objective_and_grad, x0, project=proj, reltol=1e-5, maxiters=200)\n",
    "\n",
    "print(x)"
   ]
  },
  {
   "cell_type": "code",
   "execution_count": 18,
   "metadata": {},
   "outputs": [],
   "source": [
    "AA = np.c_[A, -A] # hstack\n",
    "\n",
    "#Q = np.kron(np.array([[1, -1],[-1, 1]]), np.dot(A.T,A))\n",
    "Q = np.dot(AA.T, AA)\n",
    "p = - np.expand_dims(np.dot(AA.T, b), axis=1)\n",
    "\n",
    "G = np.r_[np.ones((1, 2*dim)), -1*np.eye(2*dim)]\n",
    "h = np.zeros((2*dim + 1, ))\n",
    "h[0] = gamma"
   ]
  },
  {
   "cell_type": "code",
   "execution_count": 19,
   "metadata": {},
   "outputs": [
    {
     "name": "stdout",
     "output_type": "stream",
     "text": [
      "[-1.48564381e-308  7.72635962e-309 -2.00000000e-001]\n"
     ]
    }
   ],
   "source": [
    "from cvxopt import matrix, solvers\n",
    "from cvxopt.solvers import options\n",
    "\n",
    "Q_ = matrix(Q)\n",
    "p_ = matrix(p)\n",
    "G_ = matrix(G)\n",
    "h_ = matrix(h)\n",
    "\n",
    "sol=solvers.qp(Q_, p_, G_, h_, options={'show_progress':False, 'maxiters':1000, 'reltol':1e-16, 'feastol':1e-16})\n",
    "\n",
    "uv = np.array(sol['x']).flatten()\n",
    "u = uv[:dim]\n",
    "v = uv[dim:]\n",
    "x = u - v\n",
    "\n",
    "print(x)"
   ]
  },
  {
   "cell_type": "code",
   "execution_count": 20,
   "metadata": {},
   "outputs": [
    {
     "name": "stdout",
     "output_type": "stream",
     "text": [
      "[4.98713175e+000 5.61736782e+000 3.63728294e+000 9.97426350e+000\n",
      " 4.35689568e+000 6.33698057e+000 9.35289451e-307]\n"
     ]
    }
   ],
   "source": [
    "# dual variables\n",
    "\n",
    "lmbda = np.array(sol['z']).flatten() # inequality constraints\n",
    "#nu = np.array(sol['y']) # equality constraints\n",
    "\n",
    "print(lmbda)"
   ]
  },
  {
   "cell_type": "code",
   "execution_count": 21,
   "metadata": {},
   "outputs": [
    {
     "name": "stdout",
     "output_type": "stream",
     "text": [
      "-0.8187307530779818\n"
     ]
    }
   ],
   "source": [
    "from numpy.linalg import solve\n",
    "\n",
    "J_z = np.block([[Q, G.T], [np.dot(np.diag(lmbda), G), np.diag(np.dot(G,uv) - h)]])\n",
    "J_h_gam = np.zeros(h.shape)\n",
    "J_h_gam[0] = 1.\n",
    "\n",
    "J_h = np.r_[np.zeros((2*dim,)), np.dot(np.diag(lmbda), -1*J_h_gam)]\n",
    "\n",
    "J_gam_uv = -1*solve(J_z, J_h)[:2*dim]\n",
    "\n",
    "g = some_function_and_grad(x)[1]\n",
    "\n",
    "fprime_gam = np.sum(g*J_gam_uv[:dim]) - np.sum(g*J_gam_uv[dim:])\n",
    "\n",
    "print(fprime_gam)"
   ]
  },
  {
   "cell_type": "markdown",
   "metadata": {},
   "source": [
    "Численная проверка:"
   ]
  },
  {
   "cell_type": "code",
   "execution_count": 22,
   "metadata": {},
   "outputs": [
    {
     "name": "stdout",
     "output_type": "stream",
     "text": [
      "-0.8187307531049014\n"
     ]
    }
   ],
   "source": [
    "eps = 1e-5\n",
    "\n",
    "f_plus = funcion(gamma + eps)\n",
    "f_minus = funcion(gamma - eps)\n",
    "\n",
    "fprime = 0.5*(f_plus - f_minus)/eps\n",
    "\n",
    "print(fprime)"
   ]
  },
  {
   "cell_type": "code",
   "execution_count": null,
   "metadata": {},
   "outputs": [],
   "source": []
  }
 ],
 "metadata": {
  "kernelspec": {
   "display_name": "Python 3",
   "language": "python",
   "name": "python3"
  },
  "language_info": {
   "codemirror_mode": {
    "name": "ipython",
    "version": 3
   },
   "file_extension": ".py",
   "mimetype": "text/x-python",
   "name": "python",
   "nbconvert_exporter": "python",
   "pygments_lexer": "ipython3",
   "version": "3.6.8"
  }
 },
 "nbformat": 4,
 "nbformat_minor": 2
}
