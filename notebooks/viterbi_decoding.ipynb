{
 "cells": [
  {
   "cell_type": "code",
   "execution_count": 1,
   "metadata": {},
   "outputs": [],
   "source": [
    "#!pip install https://github.com/pystruct/pystruct/archive/master.zip\n",
    "#!pip install cvxopt"
   ]
  },
  {
   "cell_type": "code",
   "execution_count": 2,
   "metadata": {},
   "outputs": [],
   "source": [
    "import numpy as np\n",
    "import matplotlib.pyplot as plt"
   ]
  },
  {
   "cell_type": "markdown",
   "metadata": {
    "collapsed": true
   },
   "source": [
    "$X = (x_1, x_2, ..., x_T)$\n",
    "\n",
    "$H = (h_1, h_2, ..., h_T)$\n",
    "\n",
    "$$p(X,H) = p(x_1 | h_1)p(h_1)\\prod_{t=2}^T p(x_t | h_t) p(h_t | h_{t-1})$$\n"
   ]
  },
  {
   "cell_type": "markdown",
   "metadata": {},
   "source": [
    "You're asleep upstairs in your house and awoken by noises from downstairs. You realise that a burglar is on the ground floor and attempt to understand where he his from listening to his movements. You mentally partition the ground floor into a 5 x 5 grid. For each grid position you know the probability that if someone is in that position the floorboard will __creak__. Similarly you know for each position the probability that someone will __bump__ into something in the dark.\n",
    "The floorboard creaking and bumping into objects can occur independently. In addition you assume that the burglar will move only one grid square -- forwards, backwards, left or right in a single timestep. \n",
    "<img src=\"http://www.urltarget.com/images/arrows-green-set-up-down-left-right-glossy.png\" width=100>\n",
    "Based on a series of bump/no bump and creak/no creak information, you try to figure out based on your knowledge of the ground floor, where the burglar might be.\n",
    "\n",
    "[Source](http://web4.cs.ucl.ac.uk/staff/D.Barber/pmwiki/pmwiki.php?n=Brml.HomePage)"
   ]
  },
  {
   "cell_type": "code",
   "execution_count": 5,
   "metadata": {},
   "outputs": [],
   "source": [
    "def validgridposition(x, y, dx, dy):\n",
    "    v = 1\n",
    "    if x>=dx or x<0:\n",
    "        v=0\n",
    "    if y>=dy or y<0:\n",
    "        v=0\n",
    "    return v"
   ]
  },
  {
   "cell_type": "code",
   "execution_count": 6,
   "metadata": {},
   "outputs": [
    {
     "data": {
      "image/png": "[encoded data removed]",
      "text/plain": [
       "<Figure size 432x288 with 1 Axes>"
      ]
     },
     "metadata": {
      "needs_background": "light"
     },
     "output_type": "display_data"
    }
   ],
   "source": [
    "dx = 5\n",
    "dy = 5\n",
    "\n",
    "K = dx*dy\n",
    "\n",
    "st = np.array(range(K)).reshape(dx,dy)\n",
    "\n",
    "# transition matrix: p(h_{t+1} | h_t)\n",
    "transition_prob = np.zeros((K, K)) # [new old]\n",
    "\n",
    "for x in range(dx):\n",
    "    for y in range(dy):       \n",
    "        if validgridposition(x-1,y,dx,dy):\n",
    "            transition_prob[st[x-1,y],st[x,y]] = 1\n",
    "        if validgridposition(x+1,y,dx,dy):\n",
    "            transition_prob[st[x+1,y],st[x,y]] = 1\n",
    "        if validgridposition(x,y-1,dx,dy):\n",
    "            transition_prob[st[x,y-1],st[x,y]] = 1\n",
    "        if validgridposition(x,y+1,dx,dy):\n",
    "            transition_prob[st[x,y+1],st[x,y]] = 1\n",
    "\n",
    "transition_prob = transition_prob / transition_prob.sum(axis=0)\n",
    "\n",
    "plt.imshow(transition_prob)\n",
    "plt.show()"
   ]
  },
  {
   "cell_type": "code",
   "execution_count": 7,
   "metadata": {},
   "outputs": [],
   "source": [
    "np.random.seed(1)"
   ]
  },
  {
   "cell_type": "code",
   "execution_count": 8,
   "metadata": {},
   "outputs": [
    {
     "data": {
      "image/png": "[encoded data removed]",
      "text/plain": [
       "<Figure size 432x288 with 1 Axes>"
      ]
     },
     "metadata": {
      "needs_background": "light"
     },
     "output_type": "display_data"
    },
    {
     "data": {
      "image/png": "[encoded data removed]",
      "text/plain": [
       "<Figure size 432x288 with 1 Axes>"
      ]
     },
     "metadata": {
      "needs_background": "light"
     },
     "output_type": "display_data"
    }
   ],
   "source": [
    "v1_prob = 0.1*np.ones((K,))\n",
    "v2_prob = 0.1*np.ones((K,))\n",
    "\n",
    "idx1 = np.random.permutation(K)[0:10]\n",
    "idx2 = np.random.permutation(K)[0:10]\n",
    "\n",
    "v1_prob[idx1] = 0.9\n",
    "v2_prob[idx2] = 0.9\n",
    "\n",
    "plt.imshow(v1_prob.reshape(dx,dy))\n",
    "plt.show()\n",
    "plt.imshow(v2_prob.reshape(dx,dy))\n",
    "plt.show()"
   ]
  },
  {
   "cell_type": "code",
   "execution_count": 9,
   "metadata": {},
   "outputs": [
    {
     "data": {
      "image/png": "[encoded data removed]",
      "text/plain": [
       "<Figure size 432x288 with 1 Axes>"
      ]
     },
     "metadata": {
      "needs_background": "light"
     },
     "output_type": "display_data"
    }
   ],
   "source": [
    "# observation probabilities p(v_t | h_t)\n",
    "\n",
    "observation_prob = np.zeros((4, K))\n",
    "\n",
    "observation_prob[0,:] = v1_prob*v2_prob         # p(v1=1|h)*p(v2=1|h)\n",
    "observation_prob[1,:] = v1_prob*(1-v2_prob)     # p(v1=1|h)*p(v2=1|h)\n",
    "observation_prob[2,:] = (1-v1_prob)*v2_prob     # p(v1=1|h)*p(v2=1|h)\n",
    "observation_prob[3,:] = (1-v1_prob)*(1-v2_prob) # p(v1=1|h)*p(v2=1|h)\n",
    "\n",
    "plt.imshow(observation_prob)\n",
    "plt.show()"
   ]
  },
  {
   "cell_type": "code",
   "execution_count": 10,
   "metadata": {},
   "outputs": [
    {
     "name": "stdout",
     "output_type": "stream",
     "text": [
      "[ 5  0  5  6  1  2  7  8 13 14]\n",
      "[0 1 2 3 3 0 3 0 1 1]\n"
     ]
    }
   ],
   "source": [
    "# generate data\n",
    "np.random.seed(1)\n",
    "\n",
    "T = 10\n",
    "\n",
    "V = np.zeros((T,)).astype(int)\n",
    "H = np.zeros((T,)).astype(int)\n",
    "\n",
    "h = np.random.randint(0,K)\n",
    "H[0] = int(h)\n",
    "v = np.random.multinomial(1, observation_prob[:,H[0]]).nonzero()[0]\n",
    "V[0] = int(v)\n",
    "\n",
    "for t in range(1,T):\n",
    "    H[t] = np.random.multinomial(1, transition_prob[:,H[t-1]]).nonzero()[0]\n",
    "    V[t] = np.random.multinomial(1, observation_prob[:,H[t]]).nonzero()[0]\n",
    "\n",
    "    \n",
    "print(H)\n",
    "print(V)"
   ]
  },
  {
   "cell_type": "code",
   "execution_count": 11,
   "metadata": {},
   "outputs": [],
   "source": [
    "def visualize(hidden_state_idx, dx, dy):\n",
    "    \n",
    "    T = len(hidden_state_idx)\n",
    "    K = dx*dy\n",
    "    \n",
    "    H = np.zeros((K,T))\n",
    "    H[hidden_state_idx,range(T)] = 1\n",
    "    \n",
    "    K = H.shape[0]\n",
    "    T = H.shape[1]\n",
    "    \n",
    "    A = H[:,0].reshape(dx, dy)\n",
    "    \n",
    "    for t in range(T)[1:]:\n",
    "        A = np.hstack((A, 0.5*np.ones((dx,1)), H[:,t].reshape(dx, dy)))\n",
    "        \n",
    "    plt.imshow(A, cmap='gray')\n",
    "    plt.show()    "
   ]
  },
  {
   "cell_type": "code",
   "execution_count": 12,
   "metadata": {},
   "outputs": [
    {
     "data": {
      "image/png": "[encoded data removed]",
      "text/plain": [
       "<Figure size 432x288 with 1 Axes>"
      ]
     },
     "metadata": {
      "needs_background": "light"
     },
     "output_type": "display_data"
    }
   ],
   "source": [
    "visualize(H, dx, dy)"
   ]
  },
  {
   "cell_type": "code",
   "execution_count": 13,
   "metadata": {},
   "outputs": [
    {
     "name": "stdout",
     "output_type": "stream",
     "text": [
      "[5 0 5 0 1 2 1 2 3 4]\n"
     ]
    }
   ],
   "source": [
    "from pystruct.inference import inference_dispatch\n",
    "from pystruct.utils import make_grid_edges\n",
    "\n",
    "pairwise = np.log(transition_prob.T + 1e-10) # [K K]\n",
    "unaries = np.log(observation_prob[V,:] + 1e-10) # [T K]\n",
    "edges = make_grid_edges(unaries.reshape(1, T, K))\n",
    "\n",
    "# decoding\n",
    "H_decoded = inference_dispatch(unaries, pairwise, edges, inference_method='max-product') \n",
    "\n",
    "print(H_decoded)"
   ]
  },
  {
   "cell_type": "code",
   "execution_count": 14,
   "metadata": {},
   "outputs": [
    {
     "data": {
      "image/png": "[encoded data removed]",
      "text/plain": [
       "<Figure size 432x288 with 1 Axes>"
      ]
     },
     "metadata": {
      "needs_background": "light"
     },
     "output_type": "display_data"
    }
   ],
   "source": [
    "visualize(H_decoded, dx, dy)"
   ]
  },
  {
   "cell_type": "markdown",
   "metadata": {
    "collapsed": true
   },
   "source": [
    "Рассмотрим задачу поиска наиболее вероятной последовательности - $H_{MAP}$. \n",
    "\n",
    "$$p(H|X) = \\frac{p(X, H)}{p(X)}$$\n",
    "\n",
    "$$H_{MAP} = \\arg \\max_H p(H|X) = \\arg \\max_H p(X,H)$$\n",
    "\n",
    "Эта задача сводится к более общей задаче поиска пути с минимальной стоимостью в графе специальной структуры (*minimum cost path in the multistage graph*), подобном тому, который изображен на рисунке: \n",
    "<img src=\"http://4.bp.blogspot.com/-bWTM86O7UIM/UYpaSyqLL9I/AAAAAAAAANE/jY_UY1gYmmY/s1600/multistage+graph.jpg\">\n",
    "\n",
    "Пусть каждому узлу соответствует \"стоимость\" (cost) - некоторое вещественное число. Необходимо найти путь (маршрут) от крайнего левого узла (красный) к крайнему правому (зеленый) с минимальной стоимостью. Стоимость пути есть сумма стоимостей узлов, которые содержит этот путь."
   ]
  },
  {
   "cell_type": "markdown",
   "metadata": {},
   "source": [
    "$$ S_{t,k} = U_{t,k} + \\max_m [S_{t-1,m} + P_{k,m}]$$\n",
    "\n",
    "где $U_{t,k} = \\log p(x_t | h_t = k)$, $P_{k,m} = \\log p(h_t = k | h_{t-1} = m)$"
   ]
  },
  {
   "cell_type": "code",
   "execution_count": 15,
   "metadata": {},
   "outputs": [],
   "source": [
    "def viterbi_decoding(observation, obs_prob, trans_prob, p0):\n",
    "# max-product\n",
    "#\n",
    "# input:\n",
    "#   observation:          1 x T, sequence\n",
    "#   trans_prob :          K x K, transition matrix, a_ij = Prb(h_j|h_i)\n",
    "#   obs_prob   :          K x M, emission matrix, b_ij = Prb(v_j|h_i)\n",
    "#   p0         :          K x 1, prior probabilities\n",
    "#\n",
    "# output:\n",
    "#   decode_seq :          1 x T, sequence    \n",
    "\n",
    "    K, M = obs_prob.shape[0], obs_prob.shape[1]\n",
    "    T = len(observation)    \n",
    "\n",
    "    decode_seq = np.zeros((T,)).astype(np.int)\n",
    "    \n",
    "    max_state = np.zeros((K, T))\n",
    "    cost = np.zeros((K, T))    \n",
    "    \n",
    "    cost[:,0] = np.log(p0) + np.log(obs_prob[:,observation[0]])\n",
    "    for t in range(1,T):\n",
    "        d = cost[:, t-1] + np.log(trans_prob)\n",
    "        max_state[:, t] = np.argmax(d.T, axis=0)\n",
    "        cost[:, t] = np.log(obs_prob[:, observation[t]]) + np.max(d.T, axis=0)\n",
    "        \n",
    "    decode_seq[T-1] = np.argmax(cost[:, T-1])\n",
    "    for t in range(T-2,-1,-1):\n",
    "        decode_seq[t] = max_state[decode_seq[t+1], t+1]\n",
    "\n",
    "    return decode_seq        "
   ]
  },
  {
   "cell_type": "code",
   "execution_count": 16,
   "metadata": {},
   "outputs": [
    {
     "name": "stdout",
     "output_type": "stream",
     "text": [
      "[5 0 5 0 1 2 1 2 3 4]\n"
     ]
    },
    {
     "name": "stderr",
     "output_type": "stream",
     "text": [
      "/home/alexey/anaconda3/lib/python3.6/site-packages/ipykernel_launcher.py:23: RuntimeWarning: divide by zero encountered in log\n"
     ]
    },
    {
     "data": {
      "image/png": "[encoded data removed]",
      "text/plain": [
       "<Figure size 432x288 with 1 Axes>"
      ]
     },
     "metadata": {
      "needs_background": "light"
     },
     "output_type": "display_data"
    }
   ],
   "source": [
    "states = viterbi_decoding(V, observation_prob.T, transition_prob.T, np.ones((K,))/K)\n",
    "print(states)\n",
    "visualize(states, dx, dy)"
   ]
  },
  {
   "cell_type": "code",
   "execution_count": null,
   "metadata": {
    "collapsed": true
   },
   "outputs": [],
   "source": []
  }
 ],
 "metadata": {
  "kernelspec": {
   "display_name": "Python 3",
   "language": "python",
   "name": "python3"
  },
  "language_info": {
   "codemirror_mode": {
    "name": "ipython",
    "version": 3
   },
   "file_extension": ".py",
   "mimetype": "text/x-python",
   "name": "python",
   "nbconvert_exporter": "python",
   "pygments_lexer": "ipython3",
   "version": "3.6.8"
  }
 },
 "nbformat": 4,
 "nbformat_minor": 2
}
