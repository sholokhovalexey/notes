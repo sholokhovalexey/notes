{
 "cells": [
  {
   "cell_type": "code",
   "execution_count": 1,
   "metadata": {},
   "outputs": [],
   "source": [
    "import numpy as np"
   ]
  },
  {
   "cell_type": "markdown",
   "metadata": {},
   "source": [
    "Fast dual proximal gradient algorithm:\n",
    "\n",
    "https://web.iem.technion.ac.il/images/user-files/becka/papers/40.pdf\n",
    "\n",
    "http://www.seas.ucla.edu/~vandenbe/236C/lectures/dualproxgrad.pdf\n",
    "\n",
    "Nesterov’s optimal gradient methods:\n",
    "\n",
    "https://www2.cs.uic.edu/~zhangx/teaching/agm.pdf"
   ]
  },
  {
   "cell_type": "code",
   "execution_count": 115,
   "metadata": {},
   "outputs": [],
   "source": [
    "from numpy.linalg import norm\n",
    "\n",
    "def FDPG_proj_on_intersection(x0, proj_list, max_iter=10000):\n",
    "    \"\"\"Projection onto the intersection of convex sets\"\"\"\n",
    "    N = len(proj_list)\n",
    "    shape = x0.shape\n",
    "    w = np.broadcast_to(x0, [N, *shape]).copy()\n",
    "    y = np.broadcast_to(x0, [N, *shape]).copy()\n",
    "    y_old = y.copy()\n",
    "    u_old = x0.copy()\n",
    "    L = N + 0.1\n",
    "    t = 1.\n",
    "    for k in range(max_iter):\n",
    "        u = x0 + np.sum(w, axis=0)\n",
    "        for i in range(N):\n",
    "            y[i,:] = w[i,:] - 1/L*(u - proj_list[i](u - L*w[i,:]))\n",
    "        t_old = t\n",
    "        t = 0.5*(1 + np.sqrt(1 + 4*t**2)) # reduces to the usual proximal gradient when t=1\n",
    "        w = y + (t_old - 1)/t*(y - y_old)\n",
    "        y_old = y\n",
    "        if norm(u_old - u)/norm(u) < 1e-12:\n",
    "            print(\"Converged in %d iterations!\" % (k))\n",
    "            break\n",
    "        u_old = u\n",
    "    return u"
   ]
  },
  {
   "cell_type": "markdown",
   "metadata": {},
   "source": [
    "Projection onto the [Birkhoff polytope](https://en.wikipedia.org/wiki/Birkhoff_polytope) (set of the [doubly stochastic matrices](https://en.wikipedia.org/wiki/Doubly_stochastic_matrix)):\n",
    "\n",
    "\\begin{aligned}\n",
    "& \\underset{X}{\\text{min}} & & \\frac{1}{2}\\|X - Y\\|^2_F \\\\\n",
    "& \\text{s.t.} & & X1 = 1, X^T1 = 1, X_{ij} \\geq 0\n",
    "\\end{aligned} "
   ]
  },
  {
   "cell_type": "code",
   "execution_count": 116,
   "metadata": {},
   "outputs": [],
   "source": [
    "def projection_RC1(Y):\n",
    "    n = Y.shape[0]\n",
    "    I = np.eye(n)\n",
    "    M = 1/n*I + np.sum(Y)/n/n*I - 1/n*Y\n",
    "    return Y + np.sum(M, axis=1, keepdims=True) - 1/n*np.sum(Y, axis=0, keepdims=True)"
   ]
  },
  {
   "cell_type": "code",
   "execution_count": 117,
   "metadata": {},
   "outputs": [],
   "source": [
    "n = 4\n",
    "\n",
    "np.random.seed(0)\n",
    "\n",
    "Y = np.random.randn(n,n)"
   ]
  },
  {
   "cell_type": "code",
   "execution_count": 118,
   "metadata": {},
   "outputs": [
    {
     "name": "stdout",
     "output_type": "stream",
     "text": [
      "Converged in 507 iterations!\n"
     ]
    }
   ],
   "source": [
    "proj_list = [lambda X: projection_RC1(X), lambda X: np.maximum(0, X)]\n",
    "\n",
    "X_proj = FDPG_proj_on_intersection(Y, proj_list)"
   ]
  },
  {
   "cell_type": "code",
   "execution_count": 119,
   "metadata": {},
   "outputs": [
    {
     "name": "stdout",
     "output_type": "stream",
     "text": [
      "[[ 2.75337594e-01 -1.61065605e-12  1.63342708e-01  5.61319698e-01]\n",
      " [ 6.22075049e-01 -2.86815016e-12  3.77924952e-01 -2.86809465e-12]\n",
      " [ 2.86846935e-12  5.61319698e-01  2.86820567e-12  4.38680302e-01]\n",
      " [ 1.02587358e-01  4.38680302e-01  4.58732341e-01 -1.61071156e-12]]\n"
     ]
    }
   ],
   "source": [
    "print(X_proj)"
   ]
  },
  {
   "cell_type": "code",
   "execution_count": 120,
   "metadata": {},
   "outputs": [
    {
     "name": "stdout",
     "output_type": "stream",
     "text": [
      "[1. 1. 1. 1.] [1. 1. 1. 1.]\n"
     ]
    }
   ],
   "source": [
    "print(np.sum(X_proj, axis=0), np.sum(X_proj, axis=1))"
   ]
  },
  {
   "cell_type": "code",
   "execution_count": null,
   "metadata": {},
   "outputs": [],
   "source": []
  }
 ],
 "metadata": {
  "kernelspec": {
   "display_name": "Python 3",
   "language": "python",
   "name": "python3"
  },
  "language_info": {
   "codemirror_mode": {
    "name": "ipython",
    "version": 3
   },
   "file_extension": ".py",
   "mimetype": "text/x-python",
   "name": "python",
   "nbconvert_exporter": "python",
   "pygments_lexer": "ipython3",
   "version": "3.6.8"
  }
 },
 "nbformat": 4,
 "nbformat_minor": 2
}
