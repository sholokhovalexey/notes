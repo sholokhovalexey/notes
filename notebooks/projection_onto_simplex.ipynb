{
 "cells": [
  {
   "cell_type": "markdown",
   "metadata": {},
   "source": [
    "Евклидова проекция на $\\tau$-симплекс (стандартный симплекс, если $\\tau=1$).\n",
    "\n",
    "<img src=\"https://upload.wikimedia.org/wikipedia/commons/thumb/3/38/2D-simplex.svg/150px-2D-simplex.svg.png\">\n",
    "\n",
    "\\begin{gather}\n",
    "\\underset{x}{\\text{min}} & \\frac{1}{2} \\|x - y\\|^2 \\\\\n",
    "\\text{s.t.} & 1^Tx = \\tau\\\\\n",
    "& x_k \\geq 0 \\\\\n",
    "\\end{gather}\n",
    "\n",
    "Лагранжиан:\n",
    "\n",
    "$L(x, \\lambda, \\nu) = \\frac{1}{2} \\|x - y\\|^2 - \\lambda^Tx + \\nu(1^Tx - \\tau)$\n",
    "\n",
    "Условия Каруша-Куна-Таккера:\n",
    "\n",
    "\\begin{gather}\n",
    "\\nabla_x L(x, \\lambda, \\nu) = x - y - \\lambda + \\nu1 = 0\\\\\n",
    "\\lambda_k x_k = 0\\\\\n",
    "1^Tx = \\tau \\\\\n",
    "x_k \\geq 0 \\\\\n",
    "\\lambda_k \\geq 0 \\\\\n",
    "\\end{gather}\n",
    "\n",
    "Для ненулевых $x_k$ будет выполнять равенство $\\lambda_k = 0$. Следовательно $x_k = y_k  - \\nu \\geq 0$ и $\\sum_k (y_k - \\nu) = \\tau$."
   ]
  },
  {
   "cell_type": "code",
   "execution_count": 1,
   "metadata": {},
   "outputs": [],
   "source": [
    "import numpy as np\n",
    "import matplotlib.pyplot as plt\n",
    "from numpy.linalg import norm"
   ]
  },
  {
   "cell_type": "code",
   "execution_count": 4,
   "metadata": {},
   "outputs": [],
   "source": [
    "from utils.simplex_projection import euclidean_proj_simplex"
   ]
  },
  {
   "cell_type": "code",
   "execution_count": 5,
   "metadata": {},
   "outputs": [],
   "source": [
    "def proj_simplex(x, s=1):\n",
    "    dim = len(x)\n",
    "    x_sorted = np.sort(x)[::-1]\n",
    "    ind = np.arange(dim) + 1\n",
    "    x_cum = np.cumsum(x_sorted)\n",
    "    cond = (x_sorted - (x_cum - s)/ind) > 0\n",
    "    n = ind[cond][-1]\n",
    "    nu = 1./n*(x_cum[n-1] - s)\n",
    "    return np.clip(x - nu, 0, np.inf)"
   ]
  },
  {
   "cell_type": "code",
   "execution_count": 7,
   "metadata": {},
   "outputs": [],
   "source": [
    "from scipy.linalg import norm\n",
    "\n",
    "dim = 100\n",
    "\n",
    "for i in range(50):\n",
    "    x = np.random.rand(dim,)    \n",
    "    xp = proj_simplex(x)    \n",
    "    xp_ = euclidean_proj_simplex(x)    \n",
    "    d = norm(xp - xp_)/norm(xp)\n",
    "    assert(d < 1e-8)\n"
   ]
  }
 ],
 "metadata": {
  "kernelspec": {
   "display_name": "Python 3",
   "language": "python",
   "name": "python3"
  },
  "language_info": {
   "codemirror_mode": {
    "name": "ipython",
    "version": 3
   },
   "file_extension": ".py",
   "mimetype": "text/x-python",
   "name": "python",
   "nbconvert_exporter": "python",
   "pygments_lexer": "ipython3",
   "version": "3.6.8"
  }
 },
 "nbformat": 4,
 "nbformat_minor": 2
}
